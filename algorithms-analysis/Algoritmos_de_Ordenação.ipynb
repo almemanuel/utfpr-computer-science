{
  "nbformat": 4,
  "nbformat_minor": 0,
  "metadata": {
    "colab": {
      "provenance": [],
      "authorship_tag": "ABX9TyMzOPaUN6vVgLOncd0/YXP+",
      "include_colab_link": true
    },
    "kernelspec": {
      "name": "python3",
      "display_name": "Python 3"
    },
    "language_info": {
      "name": "python"
    }
  },
  "cells": [
    {
      "cell_type": "markdown",
      "metadata": {
        "id": "view-in-github",
        "colab_type": "text"
      },
      "source": [
        "<a href=\"https://colab.research.google.com/github/almemanuel/algorithms-analysis/blob/main/notes/Algoritmos_de_Ordena%C3%A7%C3%A3o.ipynb\" target=\"_parent\"><img src=\"https://colab.research.google.com/assets/colab-badge.svg\" alt=\"Open In Colab\"/></a>"
      ]
    },
    {
      "cell_type": "markdown",
      "source": [
        "## Insertion Sort\n",
        "\n",
        "Comece percorrendo a lista de elementos a serem ordenados a partir do segundo elemento (índice 1).\n",
        "\n",
        "Armazene temporariamente o valor do elemento atual.\n",
        "\n",
        "Enquanto o índice do elemento anterior (índice $i-1$) for maior ou igual a 0 e o valor do elemento anterior for maior que o valor do elemento atual, faça o seguinte:\n",
        "\n",
        "a. Copie o valor do elemento anterior para a posição atual.\n",
        "\n",
        "b. Diminua o índice em 1 (ou seja, mova para a esquerda na lista).\n",
        "\n",
        "Insira o valor armazenado temporariamente na posição atual.\n",
        "\n",
        "Repita os passos 2 a 4 para todos os elementos restantes na lista.\n",
        "\n",
        "A lista estará ordenada quando todos os elementos forem percorridos.\n",
        "\n",
        "O algoritmo de ordenação insertion sort é um algoritmo de ordenação simples que funciona bem para listas pequenas e é facilmente implementado. No entanto, para listas maiores, outros algoritmos de ordenação, como o merge sort e o quicksort, geralmente são mais eficientes."
      ],
      "metadata": {
        "id": "HigjthjSlqjV"
      }
    },
    {
      "cell_type": "code",
      "execution_count": 8,
      "metadata": {
        "id": "YBaACLjlk3-S"
      },
      "outputs": [],
      "source": [
        "def insertion_sort(arr, n):\n",
        "  # fazer para todos os elementos do segundo indice até o fim\n",
        "  for i in range(1, n):\n",
        "    key = arr[i] # copiar o elemento atual\n",
        "    j = i - 1    # diminuir o indice em 1\n",
        "    \n",
        "    # fazer enquanto j foi um indice válido e o elemento anterior for maior que o elemento atual\n",
        "    # basicamente, ordena toda a porção da esquerda do elemento atual\n",
        "    while j > -1 and arr[j] > key:\n",
        "      arr[j + 1] = arr[j] # move o elemento de indice j uma posição para frente\n",
        "      j -= 1              # decrementa j\n",
        "    arr[j + 1] = key  # insere o elemento atual na posição correta\n",
        "  return arr\n"
      ]
    },
    {
      "cell_type": "code",
      "source": [
        "test = [10, 9, 8, 7, 6, 5, 4, 3, 2, 1]\n",
        "insertion_sort(test, len(test))"
      ],
      "metadata": {
        "colab": {
          "base_uri": "https://localhost:8080/"
        },
        "id": "MupR60oRo0Ha",
        "outputId": "ea7d069a-a3e1-4ddb-d6c6-287ae7b18ebd"
      },
      "execution_count": 9,
      "outputs": [
        {
          "output_type": "execute_result",
          "data": {
            "text/plain": [
              "[1, 2, 3, 4, 5, 6, 7, 8, 9, 10]"
            ]
          },
          "metadata": {},
          "execution_count": 9
        }
      ]
    },
    {
      "cell_type": "code",
      "source": [
        "test = [1, 2, 3, 4, 5, 6, 7, 8, 9, 10]\n",
        "insertion_sort(test, len(test))"
      ],
      "metadata": {
        "colab": {
          "base_uri": "https://localhost:8080/"
        },
        "id": "NoGbsCkZpip6",
        "outputId": "0e8f9970-44ba-4b3e-d477-0fe50b1dd1e4"
      },
      "execution_count": 10,
      "outputs": [
        {
          "output_type": "execute_result",
          "data": {
            "text/plain": [
              "[1, 2, 3, 4, 5, 6, 7, 8, 9, 10]"
            ]
          },
          "metadata": {},
          "execution_count": 10
        }
      ]
    },
    {
      "cell_type": "markdown",
      "source": [
        "O algoritmo funciona percorrendo o array e inserindo cada elemento em sua posição correta no subarray já ordenado que o precede. A complexidade de tempo do algoritmo é $O(n^2)$ no pior caso e $O(n)$ no melhor caso (quando o array já está ordenado)."
      ],
      "metadata": {
        "id": "9P2khskgqDSX"
      }
    }
  ]
}