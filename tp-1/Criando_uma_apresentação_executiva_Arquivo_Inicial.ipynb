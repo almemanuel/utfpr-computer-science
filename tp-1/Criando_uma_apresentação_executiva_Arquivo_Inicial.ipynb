{
  "cells": [
    {
      "cell_type": "markdown",
      "metadata": {
        "id": "view-in-github",
        "colab_type": "text"
      },
      "source": [
        "<a href=\"https://colab.research.google.com/github/almemanuel/topicos-em-programacao-1/blob/main/Criando_uma_apresenta%C3%A7%C3%A3o_executiva_Arquivo_Inicial.ipynb\" target=\"_parent\"><img src=\"https://colab.research.google.com/assets/colab-badge.svg\" alt=\"Open In Colab\"/></a>"
      ]
    },
    {
      "cell_type": "markdown",
      "metadata": {
        "id": "CLkLPUaxO35g"
      },
      "source": [
        "# Criando uma apresentação executiva\n",
        "- Vamos usar a base de vendas do kaggle disponível em:\n",
        "    - https://www.kaggle.com/datasets/rohitsahoo/sales-forecasting\n",
        "\n",
        "### O que queremos responder?\n",
        "- Como foi a **venda** nesse período?\n",
        "- Qual foi a **categoria mais vendida**?\n",
        "- Qual foi o **item mais vendido**?\n"
      ]
    },
    {
      "cell_type": "markdown",
      "metadata": {
        "id": "lYiYqfz2O35u"
      },
      "source": [
        "### 1. Importando e visualizando a base\n",
        "- Base: \"Criando uma apresentação executiva.csv\""
      ]
    },
    {
      "cell_type": "code",
      "execution_count": 2,
      "metadata": {
        "colab": {
          "base_uri": "https://localhost:8080/"
        },
        "id": "Q6ZLezJwO35w",
        "outputId": "1dcbb396-d3f2-4543-b315-b78a5f7d96ae"
      },
      "outputs": [
        {
          "output_type": "stream",
          "name": "stdout",
          "text": [
            "Looking in indexes: https://pypi.org/simple, https://us-python.pkg.dev/colab-wheels/public/simple/\n",
            "Requirement already satisfied: altair in /usr/local/lib/python3.7/dist-packages (4.2.0)\n",
            "\u001b[31mERROR: Could not find a version that satisfies the requirement as (from versions: none)\u001b[0m\n",
            "\u001b[31mERROR: No matching distribution found for as\u001b[0m\n",
            "Looking in indexes: https://pypi.org/simple, https://us-python.pkg.dev/colab-wheels/public/simple/\n",
            "Collecting plotly.express\n",
            "  Downloading plotly_express-0.4.1-py2.py3-none-any.whl (2.9 kB)\n",
            "\u001b[31mERROR: Could not find a version that satisfies the requirement as (from versions: none)\u001b[0m\n",
            "\u001b[31mERROR: No matching distribution found for as\u001b[0m\n"
          ]
        }
      ],
      "source": [
        "# Importando as bibliotecas e a base\n",
        "!pip install altair as alt\n",
        "!pip install plotly.express as px\n",
        "\n",
        "import pandas as pd\n",
        "import numpy as np\n",
        "import matplotlib.pyplot as plt\n",
        "import altair as alt\n",
        "import plotly.express as px"
      ]
    },
    {
      "cell_type": "code",
      "source": [
        "df = pd.read_csv('https://github.com/almemanuel/topicos-em-programacao-1/blob/main/train.csv?raw=true')\n",
        "\n",
        "df"
      ],
      "metadata": {
        "colab": {
          "base_uri": "https://localhost:8080/",
          "height": 1000
        },
        "id": "zOAY-hkqPvhA",
        "outputId": "e86b0177-5c61-48cb-f55b-e58ea676549f"
      },
      "execution_count": 30,
      "outputs": [
        {
          "output_type": "execute_result",
          "data": {
            "text/plain": [
              "      Row ID        Order ID  Order Date   Ship Date       Ship Mode  \\\n",
              "0          1  CA-2017-152156  08/11/2017  11/11/2017    Second Class   \n",
              "1          2  CA-2017-152156  08/11/2017  11/11/2017    Second Class   \n",
              "2          3  CA-2017-138688  12/06/2017  16/06/2017    Second Class   \n",
              "3          4  US-2016-108966  11/10/2016  18/10/2016  Standard Class   \n",
              "4          5  US-2016-108966  11/10/2016  18/10/2016  Standard Class   \n",
              "...      ...             ...         ...         ...             ...   \n",
              "9795    9796  CA-2017-125920  21/05/2017  28/05/2017  Standard Class   \n",
              "9796    9797  CA-2016-128608  12/01/2016  17/01/2016  Standard Class   \n",
              "9797    9798  CA-2016-128608  12/01/2016  17/01/2016  Standard Class   \n",
              "9798    9799  CA-2016-128608  12/01/2016  17/01/2016  Standard Class   \n",
              "9799    9800  CA-2016-128608  12/01/2016  17/01/2016  Standard Class   \n",
              "\n",
              "     Customer ID     Customer Name    Segment        Country             City  \\\n",
              "0       CG-12520       Claire Gute   Consumer  United States        Henderson   \n",
              "1       CG-12520       Claire Gute   Consumer  United States        Henderson   \n",
              "2       DV-13045   Darrin Van Huff  Corporate  United States      Los Angeles   \n",
              "3       SO-20335    Sean O'Donnell   Consumer  United States  Fort Lauderdale   \n",
              "4       SO-20335    Sean O'Donnell   Consumer  United States  Fort Lauderdale   \n",
              "...          ...               ...        ...            ...              ...   \n",
              "9795    SH-19975     Sally Hughsby  Corporate  United States          Chicago   \n",
              "9796    CS-12490  Cindy Schnelling  Corporate  United States           Toledo   \n",
              "9797    CS-12490  Cindy Schnelling  Corporate  United States           Toledo   \n",
              "9798    CS-12490  Cindy Schnelling  Corporate  United States           Toledo   \n",
              "9799    CS-12490  Cindy Schnelling  Corporate  United States           Toledo   \n",
              "\n",
              "           State  Postal Code   Region       Product ID         Category  \\\n",
              "0       Kentucky      42420.0    South  FUR-BO-10001798        Furniture   \n",
              "1       Kentucky      42420.0    South  FUR-CH-10000454        Furniture   \n",
              "2     California      90036.0     West  OFF-LA-10000240  Office Supplies   \n",
              "3        Florida      33311.0    South  FUR-TA-10000577        Furniture   \n",
              "4        Florida      33311.0    South  OFF-ST-10000760  Office Supplies   \n",
              "...          ...          ...      ...              ...              ...   \n",
              "9795    Illinois      60610.0  Central  OFF-BI-10003429  Office Supplies   \n",
              "9796        Ohio      43615.0     East  OFF-AR-10001374  Office Supplies   \n",
              "9797        Ohio      43615.0     East  TEC-PH-10004977       Technology   \n",
              "9798        Ohio      43615.0     East  TEC-PH-10000912       Technology   \n",
              "9799        Ohio      43615.0     East  TEC-AC-10000487       Technology   \n",
              "\n",
              "     Sub-Category                                       Product Name     Sales  \n",
              "0       Bookcases                  Bush Somerset Collection Bookcase  261.9600  \n",
              "1          Chairs  Hon Deluxe Fabric Upholstered Stacking Chairs,...  731.9400  \n",
              "2          Labels  Self-Adhesive Address Labels for Typewriters b...   14.6200  \n",
              "3          Tables      Bretford CR4500 Series Slim Rectangular Table  957.5775  \n",
              "4         Storage                     Eldon Fold 'N Roll Cart System   22.3680  \n",
              "...           ...                                                ...       ...  \n",
              "9795      Binders  Cardinal HOLDit! Binder Insert Strips,Extra St...    3.7980  \n",
              "9796          Art           BIC Brite Liner Highlighters, Chisel Tip   10.3680  \n",
              "9797       Phones                                        GE 30524EE4  235.1880  \n",
              "9798       Phones           Anker 24W Portable Micro USB Car Charger   26.3760  \n",
              "9799  Accessories                SanDisk Cruzer 4 GB USB Flash Drive   10.3840  \n",
              "\n",
              "[9800 rows x 18 columns]"
            ],
            "text/html": [
              "\n",
              "  <div id=\"df-81cf76f8-73ae-4a0e-8f36-bb12d78510f1\">\n",
              "    <div class=\"colab-df-container\">\n",
              "      <div>\n",
              "<style scoped>\n",
              "    .dataframe tbody tr th:only-of-type {\n",
              "        vertical-align: middle;\n",
              "    }\n",
              "\n",
              "    .dataframe tbody tr th {\n",
              "        vertical-align: top;\n",
              "    }\n",
              "\n",
              "    .dataframe thead th {\n",
              "        text-align: right;\n",
              "    }\n",
              "</style>\n",
              "<table border=\"1\" class=\"dataframe\">\n",
              "  <thead>\n",
              "    <tr style=\"text-align: right;\">\n",
              "      <th></th>\n",
              "      <th>Row ID</th>\n",
              "      <th>Order ID</th>\n",
              "      <th>Order Date</th>\n",
              "      <th>Ship Date</th>\n",
              "      <th>Ship Mode</th>\n",
              "      <th>Customer ID</th>\n",
              "      <th>Customer Name</th>\n",
              "      <th>Segment</th>\n",
              "      <th>Country</th>\n",
              "      <th>City</th>\n",
              "      <th>State</th>\n",
              "      <th>Postal Code</th>\n",
              "      <th>Region</th>\n",
              "      <th>Product ID</th>\n",
              "      <th>Category</th>\n",
              "      <th>Sub-Category</th>\n",
              "      <th>Product Name</th>\n",
              "      <th>Sales</th>\n",
              "    </tr>\n",
              "  </thead>\n",
              "  <tbody>\n",
              "    <tr>\n",
              "      <th>0</th>\n",
              "      <td>1</td>\n",
              "      <td>CA-2017-152156</td>\n",
              "      <td>08/11/2017</td>\n",
              "      <td>11/11/2017</td>\n",
              "      <td>Second Class</td>\n",
              "      <td>CG-12520</td>\n",
              "      <td>Claire Gute</td>\n",
              "      <td>Consumer</td>\n",
              "      <td>United States</td>\n",
              "      <td>Henderson</td>\n",
              "      <td>Kentucky</td>\n",
              "      <td>42420.0</td>\n",
              "      <td>South</td>\n",
              "      <td>FUR-BO-10001798</td>\n",
              "      <td>Furniture</td>\n",
              "      <td>Bookcases</td>\n",
              "      <td>Bush Somerset Collection Bookcase</td>\n",
              "      <td>261.9600</td>\n",
              "    </tr>\n",
              "    <tr>\n",
              "      <th>1</th>\n",
              "      <td>2</td>\n",
              "      <td>CA-2017-152156</td>\n",
              "      <td>08/11/2017</td>\n",
              "      <td>11/11/2017</td>\n",
              "      <td>Second Class</td>\n",
              "      <td>CG-12520</td>\n",
              "      <td>Claire Gute</td>\n",
              "      <td>Consumer</td>\n",
              "      <td>United States</td>\n",
              "      <td>Henderson</td>\n",
              "      <td>Kentucky</td>\n",
              "      <td>42420.0</td>\n",
              "      <td>South</td>\n",
              "      <td>FUR-CH-10000454</td>\n",
              "      <td>Furniture</td>\n",
              "      <td>Chairs</td>\n",
              "      <td>Hon Deluxe Fabric Upholstered Stacking Chairs,...</td>\n",
              "      <td>731.9400</td>\n",
              "    </tr>\n",
              "    <tr>\n",
              "      <th>2</th>\n",
              "      <td>3</td>\n",
              "      <td>CA-2017-138688</td>\n",
              "      <td>12/06/2017</td>\n",
              "      <td>16/06/2017</td>\n",
              "      <td>Second Class</td>\n",
              "      <td>DV-13045</td>\n",
              "      <td>Darrin Van Huff</td>\n",
              "      <td>Corporate</td>\n",
              "      <td>United States</td>\n",
              "      <td>Los Angeles</td>\n",
              "      <td>California</td>\n",
              "      <td>90036.0</td>\n",
              "      <td>West</td>\n",
              "      <td>OFF-LA-10000240</td>\n",
              "      <td>Office Supplies</td>\n",
              "      <td>Labels</td>\n",
              "      <td>Self-Adhesive Address Labels for Typewriters b...</td>\n",
              "      <td>14.6200</td>\n",
              "    </tr>\n",
              "    <tr>\n",
              "      <th>3</th>\n",
              "      <td>4</td>\n",
              "      <td>US-2016-108966</td>\n",
              "      <td>11/10/2016</td>\n",
              "      <td>18/10/2016</td>\n",
              "      <td>Standard Class</td>\n",
              "      <td>SO-20335</td>\n",
              "      <td>Sean O'Donnell</td>\n",
              "      <td>Consumer</td>\n",
              "      <td>United States</td>\n",
              "      <td>Fort Lauderdale</td>\n",
              "      <td>Florida</td>\n",
              "      <td>33311.0</td>\n",
              "      <td>South</td>\n",
              "      <td>FUR-TA-10000577</td>\n",
              "      <td>Furniture</td>\n",
              "      <td>Tables</td>\n",
              "      <td>Bretford CR4500 Series Slim Rectangular Table</td>\n",
              "      <td>957.5775</td>\n",
              "    </tr>\n",
              "    <tr>\n",
              "      <th>4</th>\n",
              "      <td>5</td>\n",
              "      <td>US-2016-108966</td>\n",
              "      <td>11/10/2016</td>\n",
              "      <td>18/10/2016</td>\n",
              "      <td>Standard Class</td>\n",
              "      <td>SO-20335</td>\n",
              "      <td>Sean O'Donnell</td>\n",
              "      <td>Consumer</td>\n",
              "      <td>United States</td>\n",
              "      <td>Fort Lauderdale</td>\n",
              "      <td>Florida</td>\n",
              "      <td>33311.0</td>\n",
              "      <td>South</td>\n",
              "      <td>OFF-ST-10000760</td>\n",
              "      <td>Office Supplies</td>\n",
              "      <td>Storage</td>\n",
              "      <td>Eldon Fold 'N Roll Cart System</td>\n",
              "      <td>22.3680</td>\n",
              "    </tr>\n",
              "    <tr>\n",
              "      <th>...</th>\n",
              "      <td>...</td>\n",
              "      <td>...</td>\n",
              "      <td>...</td>\n",
              "      <td>...</td>\n",
              "      <td>...</td>\n",
              "      <td>...</td>\n",
              "      <td>...</td>\n",
              "      <td>...</td>\n",
              "      <td>...</td>\n",
              "      <td>...</td>\n",
              "      <td>...</td>\n",
              "      <td>...</td>\n",
              "      <td>...</td>\n",
              "      <td>...</td>\n",
              "      <td>...</td>\n",
              "      <td>...</td>\n",
              "      <td>...</td>\n",
              "      <td>...</td>\n",
              "    </tr>\n",
              "    <tr>\n",
              "      <th>9795</th>\n",
              "      <td>9796</td>\n",
              "      <td>CA-2017-125920</td>\n",
              "      <td>21/05/2017</td>\n",
              "      <td>28/05/2017</td>\n",
              "      <td>Standard Class</td>\n",
              "      <td>SH-19975</td>\n",
              "      <td>Sally Hughsby</td>\n",
              "      <td>Corporate</td>\n",
              "      <td>United States</td>\n",
              "      <td>Chicago</td>\n",
              "      <td>Illinois</td>\n",
              "      <td>60610.0</td>\n",
              "      <td>Central</td>\n",
              "      <td>OFF-BI-10003429</td>\n",
              "      <td>Office Supplies</td>\n",
              "      <td>Binders</td>\n",
              "      <td>Cardinal HOLDit! Binder Insert Strips,Extra St...</td>\n",
              "      <td>3.7980</td>\n",
              "    </tr>\n",
              "    <tr>\n",
              "      <th>9796</th>\n",
              "      <td>9797</td>\n",
              "      <td>CA-2016-128608</td>\n",
              "      <td>12/01/2016</td>\n",
              "      <td>17/01/2016</td>\n",
              "      <td>Standard Class</td>\n",
              "      <td>CS-12490</td>\n",
              "      <td>Cindy Schnelling</td>\n",
              "      <td>Corporate</td>\n",
              "      <td>United States</td>\n",
              "      <td>Toledo</td>\n",
              "      <td>Ohio</td>\n",
              "      <td>43615.0</td>\n",
              "      <td>East</td>\n",
              "      <td>OFF-AR-10001374</td>\n",
              "      <td>Office Supplies</td>\n",
              "      <td>Art</td>\n",
              "      <td>BIC Brite Liner Highlighters, Chisel Tip</td>\n",
              "      <td>10.3680</td>\n",
              "    </tr>\n",
              "    <tr>\n",
              "      <th>9797</th>\n",
              "      <td>9798</td>\n",
              "      <td>CA-2016-128608</td>\n",
              "      <td>12/01/2016</td>\n",
              "      <td>17/01/2016</td>\n",
              "      <td>Standard Class</td>\n",
              "      <td>CS-12490</td>\n",
              "      <td>Cindy Schnelling</td>\n",
              "      <td>Corporate</td>\n",
              "      <td>United States</td>\n",
              "      <td>Toledo</td>\n",
              "      <td>Ohio</td>\n",
              "      <td>43615.0</td>\n",
              "      <td>East</td>\n",
              "      <td>TEC-PH-10004977</td>\n",
              "      <td>Technology</td>\n",
              "      <td>Phones</td>\n",
              "      <td>GE 30524EE4</td>\n",
              "      <td>235.1880</td>\n",
              "    </tr>\n",
              "    <tr>\n",
              "      <th>9798</th>\n",
              "      <td>9799</td>\n",
              "      <td>CA-2016-128608</td>\n",
              "      <td>12/01/2016</td>\n",
              "      <td>17/01/2016</td>\n",
              "      <td>Standard Class</td>\n",
              "      <td>CS-12490</td>\n",
              "      <td>Cindy Schnelling</td>\n",
              "      <td>Corporate</td>\n",
              "      <td>United States</td>\n",
              "      <td>Toledo</td>\n",
              "      <td>Ohio</td>\n",
              "      <td>43615.0</td>\n",
              "      <td>East</td>\n",
              "      <td>TEC-PH-10000912</td>\n",
              "      <td>Technology</td>\n",
              "      <td>Phones</td>\n",
              "      <td>Anker 24W Portable Micro USB Car Charger</td>\n",
              "      <td>26.3760</td>\n",
              "    </tr>\n",
              "    <tr>\n",
              "      <th>9799</th>\n",
              "      <td>9800</td>\n",
              "      <td>CA-2016-128608</td>\n",
              "      <td>12/01/2016</td>\n",
              "      <td>17/01/2016</td>\n",
              "      <td>Standard Class</td>\n",
              "      <td>CS-12490</td>\n",
              "      <td>Cindy Schnelling</td>\n",
              "      <td>Corporate</td>\n",
              "      <td>United States</td>\n",
              "      <td>Toledo</td>\n",
              "      <td>Ohio</td>\n",
              "      <td>43615.0</td>\n",
              "      <td>East</td>\n",
              "      <td>TEC-AC-10000487</td>\n",
              "      <td>Technology</td>\n",
              "      <td>Accessories</td>\n",
              "      <td>SanDisk Cruzer 4 GB USB Flash Drive</td>\n",
              "      <td>10.3840</td>\n",
              "    </tr>\n",
              "  </tbody>\n",
              "</table>\n",
              "<p>9800 rows × 18 columns</p>\n",
              "</div>\n",
              "      <button class=\"colab-df-convert\" onclick=\"convertToInteractive('df-81cf76f8-73ae-4a0e-8f36-bb12d78510f1')\"\n",
              "              title=\"Convert this dataframe to an interactive table.\"\n",
              "              style=\"display:none;\">\n",
              "        \n",
              "  <svg xmlns=\"http://www.w3.org/2000/svg\" height=\"24px\"viewBox=\"0 0 24 24\"\n",
              "       width=\"24px\">\n",
              "    <path d=\"M0 0h24v24H0V0z\" fill=\"none\"/>\n",
              "    <path d=\"M18.56 5.44l.94 2.06.94-2.06 2.06-.94-2.06-.94-.94-2.06-.94 2.06-2.06.94zm-11 1L8.5 8.5l.94-2.06 2.06-.94-2.06-.94L8.5 2.5l-.94 2.06-2.06.94zm10 10l.94 2.06.94-2.06 2.06-.94-2.06-.94-.94-2.06-.94 2.06-2.06.94z\"/><path d=\"M17.41 7.96l-1.37-1.37c-.4-.4-.92-.59-1.43-.59-.52 0-1.04.2-1.43.59L10.3 9.45l-7.72 7.72c-.78.78-.78 2.05 0 2.83L4 21.41c.39.39.9.59 1.41.59.51 0 1.02-.2 1.41-.59l7.78-7.78 2.81-2.81c.8-.78.8-2.07 0-2.86zM5.41 20L4 18.59l7.72-7.72 1.47 1.35L5.41 20z\"/>\n",
              "  </svg>\n",
              "      </button>\n",
              "      \n",
              "  <style>\n",
              "    .colab-df-container {\n",
              "      display:flex;\n",
              "      flex-wrap:wrap;\n",
              "      gap: 12px;\n",
              "    }\n",
              "\n",
              "    .colab-df-convert {\n",
              "      background-color: #E8F0FE;\n",
              "      border: none;\n",
              "      border-radius: 50%;\n",
              "      cursor: pointer;\n",
              "      display: none;\n",
              "      fill: #1967D2;\n",
              "      height: 32px;\n",
              "      padding: 0 0 0 0;\n",
              "      width: 32px;\n",
              "    }\n",
              "\n",
              "    .colab-df-convert:hover {\n",
              "      background-color: #E2EBFA;\n",
              "      box-shadow: 0px 1px 2px rgba(60, 64, 67, 0.3), 0px 1px 3px 1px rgba(60, 64, 67, 0.15);\n",
              "      fill: #174EA6;\n",
              "    }\n",
              "\n",
              "    [theme=dark] .colab-df-convert {\n",
              "      background-color: #3B4455;\n",
              "      fill: #D2E3FC;\n",
              "    }\n",
              "\n",
              "    [theme=dark] .colab-df-convert:hover {\n",
              "      background-color: #434B5C;\n",
              "      box-shadow: 0px 1px 3px 1px rgba(0, 0, 0, 0.15);\n",
              "      filter: drop-shadow(0px 1px 2px rgba(0, 0, 0, 0.3));\n",
              "      fill: #FFFFFF;\n",
              "    }\n",
              "  </style>\n",
              "\n",
              "      <script>\n",
              "        const buttonEl =\n",
              "          document.querySelector('#df-81cf76f8-73ae-4a0e-8f36-bb12d78510f1 button.colab-df-convert');\n",
              "        buttonEl.style.display =\n",
              "          google.colab.kernel.accessAllowed ? 'block' : 'none';\n",
              "\n",
              "        async function convertToInteractive(key) {\n",
              "          const element = document.querySelector('#df-81cf76f8-73ae-4a0e-8f36-bb12d78510f1');\n",
              "          const dataTable =\n",
              "            await google.colab.kernel.invokeFunction('convertToInteractive',\n",
              "                                                     [key], {});\n",
              "          if (!dataTable) return;\n",
              "\n",
              "          const docLinkHtml = 'Like what you see? Visit the ' +\n",
              "            '<a target=\"_blank\" href=https://colab.research.google.com/notebooks/data_table.ipynb>data table notebook</a>'\n",
              "            + ' to learn more about interactive tables.';\n",
              "          element.innerHTML = '';\n",
              "          dataTable['output_type'] = 'display_data';\n",
              "          await google.colab.output.renderOutput(dataTable, element);\n",
              "          const docLink = document.createElement('div');\n",
              "          docLink.innerHTML = docLinkHtml;\n",
              "          element.appendChild(docLink);\n",
              "        }\n",
              "      </script>\n",
              "    </div>\n",
              "  </div>\n",
              "  "
            ]
          },
          "metadata": {},
          "execution_count": 30
        }
      ]
    },
    {
      "cell_type": "markdown",
      "metadata": {
        "id": "ZqV1cjCvO35y"
      },
      "source": [
        "### 2. Entendendo e tratando a base"
      ]
    },
    {
      "cell_type": "code",
      "execution_count": 32,
      "metadata": {
        "colab": {
          "base_uri": "https://localhost:8080/"
        },
        "id": "MHxpoJNAO35z",
        "outputId": "2c9a8179-1e2b-45ca-d66d-2bca671a580b"
      },
      "outputs": [
        {
          "output_type": "stream",
          "name": "stdout",
          "text": [
            "<class 'pandas.core.frame.DataFrame'>\n",
            "RangeIndex: 9800 entries, 0 to 9799\n",
            "Data columns (total 18 columns):\n",
            " #   Column         Non-Null Count  Dtype  \n",
            "---  ------         --------------  -----  \n",
            " 0   Row ID         9800 non-null   int64  \n",
            " 1   Order ID       9800 non-null   object \n",
            " 2   Order Date     9800 non-null   object \n",
            " 3   Ship Date      9800 non-null   object \n",
            " 4   Ship Mode      9800 non-null   object \n",
            " 5   Customer ID    9800 non-null   object \n",
            " 6   Customer Name  9800 non-null   object \n",
            " 7   Segment        9800 non-null   object \n",
            " 8   Country        9800 non-null   object \n",
            " 9   City           9800 non-null   object \n",
            " 10  State          9800 non-null   object \n",
            " 11  Postal Code    9789 non-null   float64\n",
            " 12  Region         9800 non-null   object \n",
            " 13  Product ID     9800 non-null   object \n",
            " 14  Category       9800 non-null   object \n",
            " 15  Sub-Category   9800 non-null   object \n",
            " 16  Product Name   9800 non-null   object \n",
            " 17  Sales          9800 non-null   float64\n",
            "dtypes: float64(2), int64(1), object(15)\n",
            "memory usage: 1.3+ MB\n"
          ]
        }
      ],
      "source": [
        "# Visualizando as informações da base\n",
        "df.info()"
      ]
    },
    {
      "cell_type": "markdown",
      "metadata": {
        "id": "2D19WtwzO350"
      },
      "source": [
        "**Apenas código postal possui valores nulos, podemos visualizar quais linhas não possuem esse valor**"
      ]
    },
    {
      "cell_type": "code",
      "execution_count": 33,
      "metadata": {
        "colab": {
          "base_uri": "https://localhost:8080/",
          "height": 996
        },
        "id": "nh5XCYGwO351",
        "outputId": "a3e640cf-e8b9-41d5-f48d-b24a8f9348c2"
      },
      "outputs": [
        {
          "output_type": "execute_result",
          "data": {
            "text/plain": [
              "      Row ID        Order ID  Order Date   Ship Date       Ship Mode  \\\n",
              "2234    2235  CA-2018-104066  05/12/2018  10/12/2018  Standard Class   \n",
              "5274    5275  CA-2016-162887  07/11/2016  09/11/2016    Second Class   \n",
              "8798    8799  US-2017-150140  06/04/2017  10/04/2017  Standard Class   \n",
              "9146    9147  US-2017-165505  23/01/2017  27/01/2017  Standard Class   \n",
              "9147    9148  US-2017-165505  23/01/2017  27/01/2017  Standard Class   \n",
              "9148    9149  US-2017-165505  23/01/2017  27/01/2017  Standard Class   \n",
              "9386    9387  US-2018-127292  19/01/2018  23/01/2018  Standard Class   \n",
              "9387    9388  US-2018-127292  19/01/2018  23/01/2018  Standard Class   \n",
              "9388    9389  US-2018-127292  19/01/2018  23/01/2018  Standard Class   \n",
              "9389    9390  US-2018-127292  19/01/2018  23/01/2018  Standard Class   \n",
              "9741    9742  CA-2016-117086  08/11/2016  12/11/2016  Standard Class   \n",
              "\n",
              "     Customer ID     Customer Name      Segment        Country        City  \\\n",
              "2234    QJ-19255      Quincy Jones    Corporate  United States  Burlington   \n",
              "5274    SV-20785  Stewart Visinsky     Consumer  United States  Burlington   \n",
              "8798    VM-21685   Valerie Mitchum  Home Office  United States  Burlington   \n",
              "9146    CB-12535  Claudia Bergmann    Corporate  United States  Burlington   \n",
              "9147    CB-12535  Claudia Bergmann    Corporate  United States  Burlington   \n",
              "9148    CB-12535  Claudia Bergmann    Corporate  United States  Burlington   \n",
              "9386    RM-19375     Raymond Messe     Consumer  United States  Burlington   \n",
              "9387    RM-19375     Raymond Messe     Consumer  United States  Burlington   \n",
              "9388    RM-19375     Raymond Messe     Consumer  United States  Burlington   \n",
              "9389    RM-19375     Raymond Messe     Consumer  United States  Burlington   \n",
              "9741    QJ-19255      Quincy Jones    Corporate  United States  Burlington   \n",
              "\n",
              "        State  Postal Code Region       Product ID         Category  \\\n",
              "2234  Vermont          NaN   East  TEC-AC-10001013       Technology   \n",
              "5274  Vermont          NaN   East  FUR-CH-10000595        Furniture   \n",
              "8798  Vermont          NaN   East  TEC-PH-10002555       Technology   \n",
              "9146  Vermont          NaN   East  TEC-AC-10002926       Technology   \n",
              "9147  Vermont          NaN   East  OFF-AR-10003477  Office Supplies   \n",
              "9148  Vermont          NaN   East  OFF-ST-10001526  Office Supplies   \n",
              "9386  Vermont          NaN   East  OFF-PA-10000157  Office Supplies   \n",
              "9387  Vermont          NaN   East  OFF-PA-10001970  Office Supplies   \n",
              "9388  Vermont          NaN   East  OFF-AP-10000828  Office Supplies   \n",
              "9389  Vermont          NaN   East  OFF-EN-10001509  Office Supplies   \n",
              "9741  Vermont          NaN   East  FUR-BO-10004834        Furniture   \n",
              "\n",
              "     Sub-Category                                       Product Name    Sales  \n",
              "2234  Accessories        Logitech ClearChat Comfort/USB Headset H390   205.03  \n",
              "5274       Chairs                    Safco Contoured Stacking Chairs   715.20  \n",
              "8798       Phones                Nortel Meridian M5316 Digital phone  1294.75  \n",
              "9146  Accessories              Logitech Wireless Marathon Mouse M705    99.98  \n",
              "9147          Art                                  4009 Highlighters     8.04  \n",
              "9148      Storage              Iceberg Mobile Mega Data/Printer Cart  1564.29  \n",
              "9386        Paper                                          Xerox 191    79.92  \n",
              "9387        Paper                                         Xerox 1881    12.28  \n",
              "9388   Appliances                    Avanti 4.4 Cu. Ft. Refrigerator   542.94  \n",
              "9389    Envelopes                          Poly String Tie Envelopes     2.04  \n",
              "9741    Bookcases  Riverside Palais Royal Lawyers Bookcase, Royal...  4404.90  "
            ],
            "text/html": [
              "\n",
              "  <div id=\"df-aa29c915-cbec-49da-9ee9-295457bd2197\">\n",
              "    <div class=\"colab-df-container\">\n",
              "      <div>\n",
              "<style scoped>\n",
              "    .dataframe tbody tr th:only-of-type {\n",
              "        vertical-align: middle;\n",
              "    }\n",
              "\n",
              "    .dataframe tbody tr th {\n",
              "        vertical-align: top;\n",
              "    }\n",
              "\n",
              "    .dataframe thead th {\n",
              "        text-align: right;\n",
              "    }\n",
              "</style>\n",
              "<table border=\"1\" class=\"dataframe\">\n",
              "  <thead>\n",
              "    <tr style=\"text-align: right;\">\n",
              "      <th></th>\n",
              "      <th>Row ID</th>\n",
              "      <th>Order ID</th>\n",
              "      <th>Order Date</th>\n",
              "      <th>Ship Date</th>\n",
              "      <th>Ship Mode</th>\n",
              "      <th>Customer ID</th>\n",
              "      <th>Customer Name</th>\n",
              "      <th>Segment</th>\n",
              "      <th>Country</th>\n",
              "      <th>City</th>\n",
              "      <th>State</th>\n",
              "      <th>Postal Code</th>\n",
              "      <th>Region</th>\n",
              "      <th>Product ID</th>\n",
              "      <th>Category</th>\n",
              "      <th>Sub-Category</th>\n",
              "      <th>Product Name</th>\n",
              "      <th>Sales</th>\n",
              "    </tr>\n",
              "  </thead>\n",
              "  <tbody>\n",
              "    <tr>\n",
              "      <th>2234</th>\n",
              "      <td>2235</td>\n",
              "      <td>CA-2018-104066</td>\n",
              "      <td>05/12/2018</td>\n",
              "      <td>10/12/2018</td>\n",
              "      <td>Standard Class</td>\n",
              "      <td>QJ-19255</td>\n",
              "      <td>Quincy Jones</td>\n",
              "      <td>Corporate</td>\n",
              "      <td>United States</td>\n",
              "      <td>Burlington</td>\n",
              "      <td>Vermont</td>\n",
              "      <td>NaN</td>\n",
              "      <td>East</td>\n",
              "      <td>TEC-AC-10001013</td>\n",
              "      <td>Technology</td>\n",
              "      <td>Accessories</td>\n",
              "      <td>Logitech ClearChat Comfort/USB Headset H390</td>\n",
              "      <td>205.03</td>\n",
              "    </tr>\n",
              "    <tr>\n",
              "      <th>5274</th>\n",
              "      <td>5275</td>\n",
              "      <td>CA-2016-162887</td>\n",
              "      <td>07/11/2016</td>\n",
              "      <td>09/11/2016</td>\n",
              "      <td>Second Class</td>\n",
              "      <td>SV-20785</td>\n",
              "      <td>Stewart Visinsky</td>\n",
              "      <td>Consumer</td>\n",
              "      <td>United States</td>\n",
              "      <td>Burlington</td>\n",
              "      <td>Vermont</td>\n",
              "      <td>NaN</td>\n",
              "      <td>East</td>\n",
              "      <td>FUR-CH-10000595</td>\n",
              "      <td>Furniture</td>\n",
              "      <td>Chairs</td>\n",
              "      <td>Safco Contoured Stacking Chairs</td>\n",
              "      <td>715.20</td>\n",
              "    </tr>\n",
              "    <tr>\n",
              "      <th>8798</th>\n",
              "      <td>8799</td>\n",
              "      <td>US-2017-150140</td>\n",
              "      <td>06/04/2017</td>\n",
              "      <td>10/04/2017</td>\n",
              "      <td>Standard Class</td>\n",
              "      <td>VM-21685</td>\n",
              "      <td>Valerie Mitchum</td>\n",
              "      <td>Home Office</td>\n",
              "      <td>United States</td>\n",
              "      <td>Burlington</td>\n",
              "      <td>Vermont</td>\n",
              "      <td>NaN</td>\n",
              "      <td>East</td>\n",
              "      <td>TEC-PH-10002555</td>\n",
              "      <td>Technology</td>\n",
              "      <td>Phones</td>\n",
              "      <td>Nortel Meridian M5316 Digital phone</td>\n",
              "      <td>1294.75</td>\n",
              "    </tr>\n",
              "    <tr>\n",
              "      <th>9146</th>\n",
              "      <td>9147</td>\n",
              "      <td>US-2017-165505</td>\n",
              "      <td>23/01/2017</td>\n",
              "      <td>27/01/2017</td>\n",
              "      <td>Standard Class</td>\n",
              "      <td>CB-12535</td>\n",
              "      <td>Claudia Bergmann</td>\n",
              "      <td>Corporate</td>\n",
              "      <td>United States</td>\n",
              "      <td>Burlington</td>\n",
              "      <td>Vermont</td>\n",
              "      <td>NaN</td>\n",
              "      <td>East</td>\n",
              "      <td>TEC-AC-10002926</td>\n",
              "      <td>Technology</td>\n",
              "      <td>Accessories</td>\n",
              "      <td>Logitech Wireless Marathon Mouse M705</td>\n",
              "      <td>99.98</td>\n",
              "    </tr>\n",
              "    <tr>\n",
              "      <th>9147</th>\n",
              "      <td>9148</td>\n",
              "      <td>US-2017-165505</td>\n",
              "      <td>23/01/2017</td>\n",
              "      <td>27/01/2017</td>\n",
              "      <td>Standard Class</td>\n",
              "      <td>CB-12535</td>\n",
              "      <td>Claudia Bergmann</td>\n",
              "      <td>Corporate</td>\n",
              "      <td>United States</td>\n",
              "      <td>Burlington</td>\n",
              "      <td>Vermont</td>\n",
              "      <td>NaN</td>\n",
              "      <td>East</td>\n",
              "      <td>OFF-AR-10003477</td>\n",
              "      <td>Office Supplies</td>\n",
              "      <td>Art</td>\n",
              "      <td>4009 Highlighters</td>\n",
              "      <td>8.04</td>\n",
              "    </tr>\n",
              "    <tr>\n",
              "      <th>9148</th>\n",
              "      <td>9149</td>\n",
              "      <td>US-2017-165505</td>\n",
              "      <td>23/01/2017</td>\n",
              "      <td>27/01/2017</td>\n",
              "      <td>Standard Class</td>\n",
              "      <td>CB-12535</td>\n",
              "      <td>Claudia Bergmann</td>\n",
              "      <td>Corporate</td>\n",
              "      <td>United States</td>\n",
              "      <td>Burlington</td>\n",
              "      <td>Vermont</td>\n",
              "      <td>NaN</td>\n",
              "      <td>East</td>\n",
              "      <td>OFF-ST-10001526</td>\n",
              "      <td>Office Supplies</td>\n",
              "      <td>Storage</td>\n",
              "      <td>Iceberg Mobile Mega Data/Printer Cart</td>\n",
              "      <td>1564.29</td>\n",
              "    </tr>\n",
              "    <tr>\n",
              "      <th>9386</th>\n",
              "      <td>9387</td>\n",
              "      <td>US-2018-127292</td>\n",
              "      <td>19/01/2018</td>\n",
              "      <td>23/01/2018</td>\n",
              "      <td>Standard Class</td>\n",
              "      <td>RM-19375</td>\n",
              "      <td>Raymond Messe</td>\n",
              "      <td>Consumer</td>\n",
              "      <td>United States</td>\n",
              "      <td>Burlington</td>\n",
              "      <td>Vermont</td>\n",
              "      <td>NaN</td>\n",
              "      <td>East</td>\n",
              "      <td>OFF-PA-10000157</td>\n",
              "      <td>Office Supplies</td>\n",
              "      <td>Paper</td>\n",
              "      <td>Xerox 191</td>\n",
              "      <td>79.92</td>\n",
              "    </tr>\n",
              "    <tr>\n",
              "      <th>9387</th>\n",
              "      <td>9388</td>\n",
              "      <td>US-2018-127292</td>\n",
              "      <td>19/01/2018</td>\n",
              "      <td>23/01/2018</td>\n",
              "      <td>Standard Class</td>\n",
              "      <td>RM-19375</td>\n",
              "      <td>Raymond Messe</td>\n",
              "      <td>Consumer</td>\n",
              "      <td>United States</td>\n",
              "      <td>Burlington</td>\n",
              "      <td>Vermont</td>\n",
              "      <td>NaN</td>\n",
              "      <td>East</td>\n",
              "      <td>OFF-PA-10001970</td>\n",
              "      <td>Office Supplies</td>\n",
              "      <td>Paper</td>\n",
              "      <td>Xerox 1881</td>\n",
              "      <td>12.28</td>\n",
              "    </tr>\n",
              "    <tr>\n",
              "      <th>9388</th>\n",
              "      <td>9389</td>\n",
              "      <td>US-2018-127292</td>\n",
              "      <td>19/01/2018</td>\n",
              "      <td>23/01/2018</td>\n",
              "      <td>Standard Class</td>\n",
              "      <td>RM-19375</td>\n",
              "      <td>Raymond Messe</td>\n",
              "      <td>Consumer</td>\n",
              "      <td>United States</td>\n",
              "      <td>Burlington</td>\n",
              "      <td>Vermont</td>\n",
              "      <td>NaN</td>\n",
              "      <td>East</td>\n",
              "      <td>OFF-AP-10000828</td>\n",
              "      <td>Office Supplies</td>\n",
              "      <td>Appliances</td>\n",
              "      <td>Avanti 4.4 Cu. Ft. Refrigerator</td>\n",
              "      <td>542.94</td>\n",
              "    </tr>\n",
              "    <tr>\n",
              "      <th>9389</th>\n",
              "      <td>9390</td>\n",
              "      <td>US-2018-127292</td>\n",
              "      <td>19/01/2018</td>\n",
              "      <td>23/01/2018</td>\n",
              "      <td>Standard Class</td>\n",
              "      <td>RM-19375</td>\n",
              "      <td>Raymond Messe</td>\n",
              "      <td>Consumer</td>\n",
              "      <td>United States</td>\n",
              "      <td>Burlington</td>\n",
              "      <td>Vermont</td>\n",
              "      <td>NaN</td>\n",
              "      <td>East</td>\n",
              "      <td>OFF-EN-10001509</td>\n",
              "      <td>Office Supplies</td>\n",
              "      <td>Envelopes</td>\n",
              "      <td>Poly String Tie Envelopes</td>\n",
              "      <td>2.04</td>\n",
              "    </tr>\n",
              "    <tr>\n",
              "      <th>9741</th>\n",
              "      <td>9742</td>\n",
              "      <td>CA-2016-117086</td>\n",
              "      <td>08/11/2016</td>\n",
              "      <td>12/11/2016</td>\n",
              "      <td>Standard Class</td>\n",
              "      <td>QJ-19255</td>\n",
              "      <td>Quincy Jones</td>\n",
              "      <td>Corporate</td>\n",
              "      <td>United States</td>\n",
              "      <td>Burlington</td>\n",
              "      <td>Vermont</td>\n",
              "      <td>NaN</td>\n",
              "      <td>East</td>\n",
              "      <td>FUR-BO-10004834</td>\n",
              "      <td>Furniture</td>\n",
              "      <td>Bookcases</td>\n",
              "      <td>Riverside Palais Royal Lawyers Bookcase, Royal...</td>\n",
              "      <td>4404.90</td>\n",
              "    </tr>\n",
              "  </tbody>\n",
              "</table>\n",
              "</div>\n",
              "      <button class=\"colab-df-convert\" onclick=\"convertToInteractive('df-aa29c915-cbec-49da-9ee9-295457bd2197')\"\n",
              "              title=\"Convert this dataframe to an interactive table.\"\n",
              "              style=\"display:none;\">\n",
              "        \n",
              "  <svg xmlns=\"http://www.w3.org/2000/svg\" height=\"24px\"viewBox=\"0 0 24 24\"\n",
              "       width=\"24px\">\n",
              "    <path d=\"M0 0h24v24H0V0z\" fill=\"none\"/>\n",
              "    <path d=\"M18.56 5.44l.94 2.06.94-2.06 2.06-.94-2.06-.94-.94-2.06-.94 2.06-2.06.94zm-11 1L8.5 8.5l.94-2.06 2.06-.94-2.06-.94L8.5 2.5l-.94 2.06-2.06.94zm10 10l.94 2.06.94-2.06 2.06-.94-2.06-.94-.94-2.06-.94 2.06-2.06.94z\"/><path d=\"M17.41 7.96l-1.37-1.37c-.4-.4-.92-.59-1.43-.59-.52 0-1.04.2-1.43.59L10.3 9.45l-7.72 7.72c-.78.78-.78 2.05 0 2.83L4 21.41c.39.39.9.59 1.41.59.51 0 1.02-.2 1.41-.59l7.78-7.78 2.81-2.81c.8-.78.8-2.07 0-2.86zM5.41 20L4 18.59l7.72-7.72 1.47 1.35L5.41 20z\"/>\n",
              "  </svg>\n",
              "      </button>\n",
              "      \n",
              "  <style>\n",
              "    .colab-df-container {\n",
              "      display:flex;\n",
              "      flex-wrap:wrap;\n",
              "      gap: 12px;\n",
              "    }\n",
              "\n",
              "    .colab-df-convert {\n",
              "      background-color: #E8F0FE;\n",
              "      border: none;\n",
              "      border-radius: 50%;\n",
              "      cursor: pointer;\n",
              "      display: none;\n",
              "      fill: #1967D2;\n",
              "      height: 32px;\n",
              "      padding: 0 0 0 0;\n",
              "      width: 32px;\n",
              "    }\n",
              "\n",
              "    .colab-df-convert:hover {\n",
              "      background-color: #E2EBFA;\n",
              "      box-shadow: 0px 1px 2px rgba(60, 64, 67, 0.3), 0px 1px 3px 1px rgba(60, 64, 67, 0.15);\n",
              "      fill: #174EA6;\n",
              "    }\n",
              "\n",
              "    [theme=dark] .colab-df-convert {\n",
              "      background-color: #3B4455;\n",
              "      fill: #D2E3FC;\n",
              "    }\n",
              "\n",
              "    [theme=dark] .colab-df-convert:hover {\n",
              "      background-color: #434B5C;\n",
              "      box-shadow: 0px 1px 3px 1px rgba(0, 0, 0, 0.15);\n",
              "      filter: drop-shadow(0px 1px 2px rgba(0, 0, 0, 0.3));\n",
              "      fill: #FFFFFF;\n",
              "    }\n",
              "  </style>\n",
              "\n",
              "      <script>\n",
              "        const buttonEl =\n",
              "          document.querySelector('#df-aa29c915-cbec-49da-9ee9-295457bd2197 button.colab-df-convert');\n",
              "        buttonEl.style.display =\n",
              "          google.colab.kernel.accessAllowed ? 'block' : 'none';\n",
              "\n",
              "        async function convertToInteractive(key) {\n",
              "          const element = document.querySelector('#df-aa29c915-cbec-49da-9ee9-295457bd2197');\n",
              "          const dataTable =\n",
              "            await google.colab.kernel.invokeFunction('convertToInteractive',\n",
              "                                                     [key], {});\n",
              "          if (!dataTable) return;\n",
              "\n",
              "          const docLinkHtml = 'Like what you see? Visit the ' +\n",
              "            '<a target=\"_blank\" href=https://colab.research.google.com/notebooks/data_table.ipynb>data table notebook</a>'\n",
              "            + ' to learn more about interactive tables.';\n",
              "          element.innerHTML = '';\n",
              "          dataTable['output_type'] = 'display_data';\n",
              "          await google.colab.output.renderOutput(dataTable, element);\n",
              "          const docLink = document.createElement('div');\n",
              "          docLink.innerHTML = docLinkHtml;\n",
              "          element.appendChild(docLink);\n",
              "        }\n",
              "      </script>\n",
              "    </div>\n",
              "  </div>\n",
              "  "
            ]
          },
          "metadata": {},
          "execution_count": 33
        }
      ],
      "source": [
        "# Verificando os registros com Postal Code vazio\n",
        "df[df['Postal Code'].isnull()]"
      ]
    },
    {
      "cell_type": "markdown",
      "metadata": {
        "id": "TpCDF2M_O352"
      },
      "source": [
        "**Todos os registros sem código postal são da cidade de Burlington, em Vermont. Será que algum registro dessa cidade possui código postal?**"
      ]
    },
    {
      "cell_type": "code",
      "execution_count": 34,
      "metadata": {
        "colab": {
          "base_uri": "https://localhost:8080/",
          "height": 111
        },
        "id": "JpOCPbcFO353",
        "outputId": "da2288bc-eef2-41f5-a290-9c0384c53f0e"
      },
      "outputs": [
        {
          "output_type": "execute_result",
          "data": {
            "text/plain": [
              "Empty DataFrame\n",
              "Columns: [Row ID, Order ID, Order Date, Ship Date, Ship Mode, Customer ID, Customer Name, Segment, Country, City, State, Postal Code, Region, Product ID, Category, Sub-Category, Product Name, Sales]\n",
              "Index: []"
            ],
            "text/html": [
              "\n",
              "  <div id=\"df-85f67655-5df2-46eb-9c58-a24f2ef9f538\">\n",
              "    <div class=\"colab-df-container\">\n",
              "      <div>\n",
              "<style scoped>\n",
              "    .dataframe tbody tr th:only-of-type {\n",
              "        vertical-align: middle;\n",
              "    }\n",
              "\n",
              "    .dataframe tbody tr th {\n",
              "        vertical-align: top;\n",
              "    }\n",
              "\n",
              "    .dataframe thead th {\n",
              "        text-align: right;\n",
              "    }\n",
              "</style>\n",
              "<table border=\"1\" class=\"dataframe\">\n",
              "  <thead>\n",
              "    <tr style=\"text-align: right;\">\n",
              "      <th></th>\n",
              "      <th>Row ID</th>\n",
              "      <th>Order ID</th>\n",
              "      <th>Order Date</th>\n",
              "      <th>Ship Date</th>\n",
              "      <th>Ship Mode</th>\n",
              "      <th>Customer ID</th>\n",
              "      <th>Customer Name</th>\n",
              "      <th>Segment</th>\n",
              "      <th>Country</th>\n",
              "      <th>City</th>\n",
              "      <th>State</th>\n",
              "      <th>Postal Code</th>\n",
              "      <th>Region</th>\n",
              "      <th>Product ID</th>\n",
              "      <th>Category</th>\n",
              "      <th>Sub-Category</th>\n",
              "      <th>Product Name</th>\n",
              "      <th>Sales</th>\n",
              "    </tr>\n",
              "  </thead>\n",
              "  <tbody>\n",
              "  </tbody>\n",
              "</table>\n",
              "</div>\n",
              "      <button class=\"colab-df-convert\" onclick=\"convertToInteractive('df-85f67655-5df2-46eb-9c58-a24f2ef9f538')\"\n",
              "              title=\"Convert this dataframe to an interactive table.\"\n",
              "              style=\"display:none;\">\n",
              "        \n",
              "  <svg xmlns=\"http://www.w3.org/2000/svg\" height=\"24px\"viewBox=\"0 0 24 24\"\n",
              "       width=\"24px\">\n",
              "    <path d=\"M0 0h24v24H0V0z\" fill=\"none\"/>\n",
              "    <path d=\"M18.56 5.44l.94 2.06.94-2.06 2.06-.94-2.06-.94-.94-2.06-.94 2.06-2.06.94zm-11 1L8.5 8.5l.94-2.06 2.06-.94-2.06-.94L8.5 2.5l-.94 2.06-2.06.94zm10 10l.94 2.06.94-2.06 2.06-.94-2.06-.94-.94-2.06-.94 2.06-2.06.94z\"/><path d=\"M17.41 7.96l-1.37-1.37c-.4-.4-.92-.59-1.43-.59-.52 0-1.04.2-1.43.59L10.3 9.45l-7.72 7.72c-.78.78-.78 2.05 0 2.83L4 21.41c.39.39.9.59 1.41.59.51 0 1.02-.2 1.41-.59l7.78-7.78 2.81-2.81c.8-.78.8-2.07 0-2.86zM5.41 20L4 18.59l7.72-7.72 1.47 1.35L5.41 20z\"/>\n",
              "  </svg>\n",
              "      </button>\n",
              "      \n",
              "  <style>\n",
              "    .colab-df-container {\n",
              "      display:flex;\n",
              "      flex-wrap:wrap;\n",
              "      gap: 12px;\n",
              "    }\n",
              "\n",
              "    .colab-df-convert {\n",
              "      background-color: #E8F0FE;\n",
              "      border: none;\n",
              "      border-radius: 50%;\n",
              "      cursor: pointer;\n",
              "      display: none;\n",
              "      fill: #1967D2;\n",
              "      height: 32px;\n",
              "      padding: 0 0 0 0;\n",
              "      width: 32px;\n",
              "    }\n",
              "\n",
              "    .colab-df-convert:hover {\n",
              "      background-color: #E2EBFA;\n",
              "      box-shadow: 0px 1px 2px rgba(60, 64, 67, 0.3), 0px 1px 3px 1px rgba(60, 64, 67, 0.15);\n",
              "      fill: #174EA6;\n",
              "    }\n",
              "\n",
              "    [theme=dark] .colab-df-convert {\n",
              "      background-color: #3B4455;\n",
              "      fill: #D2E3FC;\n",
              "    }\n",
              "\n",
              "    [theme=dark] .colab-df-convert:hover {\n",
              "      background-color: #434B5C;\n",
              "      box-shadow: 0px 1px 3px 1px rgba(0, 0, 0, 0.15);\n",
              "      filter: drop-shadow(0px 1px 2px rgba(0, 0, 0, 0.3));\n",
              "      fill: #FFFFFF;\n",
              "    }\n",
              "  </style>\n",
              "\n",
              "      <script>\n",
              "        const buttonEl =\n",
              "          document.querySelector('#df-85f67655-5df2-46eb-9c58-a24f2ef9f538 button.colab-df-convert');\n",
              "        buttonEl.style.display =\n",
              "          google.colab.kernel.accessAllowed ? 'block' : 'none';\n",
              "\n",
              "        async function convertToInteractive(key) {\n",
              "          const element = document.querySelector('#df-85f67655-5df2-46eb-9c58-a24f2ef9f538');\n",
              "          const dataTable =\n",
              "            await google.colab.kernel.invokeFunction('convertToInteractive',\n",
              "                                                     [key], {});\n",
              "          if (!dataTable) return;\n",
              "\n",
              "          const docLinkHtml = 'Like what you see? Visit the ' +\n",
              "            '<a target=\"_blank\" href=https://colab.research.google.com/notebooks/data_table.ipynb>data table notebook</a>'\n",
              "            + ' to learn more about interactive tables.';\n",
              "          element.innerHTML = '';\n",
              "          dataTable['output_type'] = 'display_data';\n",
              "          await google.colab.output.renderOutput(dataTable, element);\n",
              "          const docLink = document.createElement('div');\n",
              "          docLink.innerHTML = docLinkHtml;\n",
              "          element.appendChild(docLink);\n",
              "        }\n",
              "      </script>\n",
              "    </div>\n",
              "  </div>\n",
              "  "
            ]
          },
          "metadata": {},
          "execution_count": 34
        }
      ],
      "source": [
        "# Verificando se existe algum registro de Burlington, Vermont com Postal Code\n",
        "df[(df['City'] == 'Burlington') & (df['State'] == 'Vermont') & (df['Postal Code'].isnull() == False)]"
      ]
    },
    {
      "cell_type": "markdown",
      "metadata": {
        "id": "_nQ7orNXO355"
      },
      "source": [
        "**Podemos ir diretamente no google para buscar essa informação**"
      ]
    },
    {
      "cell_type": "code",
      "execution_count": 42,
      "metadata": {
        "id": "yiMcv28DO357"
      },
      "outputs": [],
      "source": [
        "# Atualizando essa informação\n",
        "df['Postal Code'] = df['Postal Code'].fillna('05401')"
      ]
    },
    {
      "cell_type": "code",
      "execution_count": 40,
      "metadata": {
        "colab": {
          "base_uri": "https://localhost:8080/"
        },
        "id": "zLxeY1dvO357",
        "outputId": "2949eccd-2e23-40aa-8113-b0d25337eb31"
      },
      "outputs": [
        {
          "output_type": "execute_result",
          "data": {
            "text/plain": [
              "0"
            ]
          },
          "metadata": {},
          "execution_count": 40
        }
      ],
      "source": [
        "# Verificando se ainda existe algum valor nulo\n",
        "df['Postal Code'].isnull().sum()"
      ]
    },
    {
      "cell_type": "code",
      "execution_count": 41,
      "metadata": {
        "colab": {
          "base_uri": "https://localhost:8080/",
          "height": 996
        },
        "id": "XaX7I3FwO358",
        "outputId": "dcf7d2f2-ca3d-4387-90d9-0e29c5d05222"
      },
      "outputs": [
        {
          "output_type": "execute_result",
          "data": {
            "text/plain": [
              "      Row ID        Order ID  Order Date   Ship Date       Ship Mode  \\\n",
              "2234    2235  CA-2018-104066  05/12/2018  10/12/2018  Standard Class   \n",
              "5274    5275  CA-2016-162887  07/11/2016  09/11/2016    Second Class   \n",
              "8798    8799  US-2017-150140  06/04/2017  10/04/2017  Standard Class   \n",
              "9146    9147  US-2017-165505  23/01/2017  27/01/2017  Standard Class   \n",
              "9147    9148  US-2017-165505  23/01/2017  27/01/2017  Standard Class   \n",
              "9148    9149  US-2017-165505  23/01/2017  27/01/2017  Standard Class   \n",
              "9386    9387  US-2018-127292  19/01/2018  23/01/2018  Standard Class   \n",
              "9387    9388  US-2018-127292  19/01/2018  23/01/2018  Standard Class   \n",
              "9388    9389  US-2018-127292  19/01/2018  23/01/2018  Standard Class   \n",
              "9389    9390  US-2018-127292  19/01/2018  23/01/2018  Standard Class   \n",
              "9741    9742  CA-2016-117086  08/11/2016  12/11/2016  Standard Class   \n",
              "\n",
              "     Customer ID     Customer Name      Segment        Country        City  \\\n",
              "2234    QJ-19255      Quincy Jones    Corporate  United States  Burlington   \n",
              "5274    SV-20785  Stewart Visinsky     Consumer  United States  Burlington   \n",
              "8798    VM-21685   Valerie Mitchum  Home Office  United States  Burlington   \n",
              "9146    CB-12535  Claudia Bergmann    Corporate  United States  Burlington   \n",
              "9147    CB-12535  Claudia Bergmann    Corporate  United States  Burlington   \n",
              "9148    CB-12535  Claudia Bergmann    Corporate  United States  Burlington   \n",
              "9386    RM-19375     Raymond Messe     Consumer  United States  Burlington   \n",
              "9387    RM-19375     Raymond Messe     Consumer  United States  Burlington   \n",
              "9388    RM-19375     Raymond Messe     Consumer  United States  Burlington   \n",
              "9389    RM-19375     Raymond Messe     Consumer  United States  Burlington   \n",
              "9741    QJ-19255      Quincy Jones    Corporate  United States  Burlington   \n",
              "\n",
              "        State Postal Code Region       Product ID         Category  \\\n",
              "2234  Vermont       05401   East  TEC-AC-10001013       Technology   \n",
              "5274  Vermont       05401   East  FUR-CH-10000595        Furniture   \n",
              "8798  Vermont       05401   East  TEC-PH-10002555       Technology   \n",
              "9146  Vermont       05401   East  TEC-AC-10002926       Technology   \n",
              "9147  Vermont       05401   East  OFF-AR-10003477  Office Supplies   \n",
              "9148  Vermont       05401   East  OFF-ST-10001526  Office Supplies   \n",
              "9386  Vermont       05401   East  OFF-PA-10000157  Office Supplies   \n",
              "9387  Vermont       05401   East  OFF-PA-10001970  Office Supplies   \n",
              "9388  Vermont       05401   East  OFF-AP-10000828  Office Supplies   \n",
              "9389  Vermont       05401   East  OFF-EN-10001509  Office Supplies   \n",
              "9741  Vermont       05401   East  FUR-BO-10004834        Furniture   \n",
              "\n",
              "     Sub-Category                                       Product Name    Sales  \n",
              "2234  Accessories        Logitech ClearChat Comfort/USB Headset H390   205.03  \n",
              "5274       Chairs                    Safco Contoured Stacking Chairs   715.20  \n",
              "8798       Phones                Nortel Meridian M5316 Digital phone  1294.75  \n",
              "9146  Accessories              Logitech Wireless Marathon Mouse M705    99.98  \n",
              "9147          Art                                  4009 Highlighters     8.04  \n",
              "9148      Storage              Iceberg Mobile Mega Data/Printer Cart  1564.29  \n",
              "9386        Paper                                          Xerox 191    79.92  \n",
              "9387        Paper                                         Xerox 1881    12.28  \n",
              "9388   Appliances                    Avanti 4.4 Cu. Ft. Refrigerator   542.94  \n",
              "9389    Envelopes                          Poly String Tie Envelopes     2.04  \n",
              "9741    Bookcases  Riverside Palais Royal Lawyers Bookcase, Royal...  4404.90  "
            ],
            "text/html": [
              "\n",
              "  <div id=\"df-cb1191a5-7acf-4ae8-ab4e-940bf2286a4b\">\n",
              "    <div class=\"colab-df-container\">\n",
              "      <div>\n",
              "<style scoped>\n",
              "    .dataframe tbody tr th:only-of-type {\n",
              "        vertical-align: middle;\n",
              "    }\n",
              "\n",
              "    .dataframe tbody tr th {\n",
              "        vertical-align: top;\n",
              "    }\n",
              "\n",
              "    .dataframe thead th {\n",
              "        text-align: right;\n",
              "    }\n",
              "</style>\n",
              "<table border=\"1\" class=\"dataframe\">\n",
              "  <thead>\n",
              "    <tr style=\"text-align: right;\">\n",
              "      <th></th>\n",
              "      <th>Row ID</th>\n",
              "      <th>Order ID</th>\n",
              "      <th>Order Date</th>\n",
              "      <th>Ship Date</th>\n",
              "      <th>Ship Mode</th>\n",
              "      <th>Customer ID</th>\n",
              "      <th>Customer Name</th>\n",
              "      <th>Segment</th>\n",
              "      <th>Country</th>\n",
              "      <th>City</th>\n",
              "      <th>State</th>\n",
              "      <th>Postal Code</th>\n",
              "      <th>Region</th>\n",
              "      <th>Product ID</th>\n",
              "      <th>Category</th>\n",
              "      <th>Sub-Category</th>\n",
              "      <th>Product Name</th>\n",
              "      <th>Sales</th>\n",
              "    </tr>\n",
              "  </thead>\n",
              "  <tbody>\n",
              "    <tr>\n",
              "      <th>2234</th>\n",
              "      <td>2235</td>\n",
              "      <td>CA-2018-104066</td>\n",
              "      <td>05/12/2018</td>\n",
              "      <td>10/12/2018</td>\n",
              "      <td>Standard Class</td>\n",
              "      <td>QJ-19255</td>\n",
              "      <td>Quincy Jones</td>\n",
              "      <td>Corporate</td>\n",
              "      <td>United States</td>\n",
              "      <td>Burlington</td>\n",
              "      <td>Vermont</td>\n",
              "      <td>05401</td>\n",
              "      <td>East</td>\n",
              "      <td>TEC-AC-10001013</td>\n",
              "      <td>Technology</td>\n",
              "      <td>Accessories</td>\n",
              "      <td>Logitech ClearChat Comfort/USB Headset H390</td>\n",
              "      <td>205.03</td>\n",
              "    </tr>\n",
              "    <tr>\n",
              "      <th>5274</th>\n",
              "      <td>5275</td>\n",
              "      <td>CA-2016-162887</td>\n",
              "      <td>07/11/2016</td>\n",
              "      <td>09/11/2016</td>\n",
              "      <td>Second Class</td>\n",
              "      <td>SV-20785</td>\n",
              "      <td>Stewart Visinsky</td>\n",
              "      <td>Consumer</td>\n",
              "      <td>United States</td>\n",
              "      <td>Burlington</td>\n",
              "      <td>Vermont</td>\n",
              "      <td>05401</td>\n",
              "      <td>East</td>\n",
              "      <td>FUR-CH-10000595</td>\n",
              "      <td>Furniture</td>\n",
              "      <td>Chairs</td>\n",
              "      <td>Safco Contoured Stacking Chairs</td>\n",
              "      <td>715.20</td>\n",
              "    </tr>\n",
              "    <tr>\n",
              "      <th>8798</th>\n",
              "      <td>8799</td>\n",
              "      <td>US-2017-150140</td>\n",
              "      <td>06/04/2017</td>\n",
              "      <td>10/04/2017</td>\n",
              "      <td>Standard Class</td>\n",
              "      <td>VM-21685</td>\n",
              "      <td>Valerie Mitchum</td>\n",
              "      <td>Home Office</td>\n",
              "      <td>United States</td>\n",
              "      <td>Burlington</td>\n",
              "      <td>Vermont</td>\n",
              "      <td>05401</td>\n",
              "      <td>East</td>\n",
              "      <td>TEC-PH-10002555</td>\n",
              "      <td>Technology</td>\n",
              "      <td>Phones</td>\n",
              "      <td>Nortel Meridian M5316 Digital phone</td>\n",
              "      <td>1294.75</td>\n",
              "    </tr>\n",
              "    <tr>\n",
              "      <th>9146</th>\n",
              "      <td>9147</td>\n",
              "      <td>US-2017-165505</td>\n",
              "      <td>23/01/2017</td>\n",
              "      <td>27/01/2017</td>\n",
              "      <td>Standard Class</td>\n",
              "      <td>CB-12535</td>\n",
              "      <td>Claudia Bergmann</td>\n",
              "      <td>Corporate</td>\n",
              "      <td>United States</td>\n",
              "      <td>Burlington</td>\n",
              "      <td>Vermont</td>\n",
              "      <td>05401</td>\n",
              "      <td>East</td>\n",
              "      <td>TEC-AC-10002926</td>\n",
              "      <td>Technology</td>\n",
              "      <td>Accessories</td>\n",
              "      <td>Logitech Wireless Marathon Mouse M705</td>\n",
              "      <td>99.98</td>\n",
              "    </tr>\n",
              "    <tr>\n",
              "      <th>9147</th>\n",
              "      <td>9148</td>\n",
              "      <td>US-2017-165505</td>\n",
              "      <td>23/01/2017</td>\n",
              "      <td>27/01/2017</td>\n",
              "      <td>Standard Class</td>\n",
              "      <td>CB-12535</td>\n",
              "      <td>Claudia Bergmann</td>\n",
              "      <td>Corporate</td>\n",
              "      <td>United States</td>\n",
              "      <td>Burlington</td>\n",
              "      <td>Vermont</td>\n",
              "      <td>05401</td>\n",
              "      <td>East</td>\n",
              "      <td>OFF-AR-10003477</td>\n",
              "      <td>Office Supplies</td>\n",
              "      <td>Art</td>\n",
              "      <td>4009 Highlighters</td>\n",
              "      <td>8.04</td>\n",
              "    </tr>\n",
              "    <tr>\n",
              "      <th>9148</th>\n",
              "      <td>9149</td>\n",
              "      <td>US-2017-165505</td>\n",
              "      <td>23/01/2017</td>\n",
              "      <td>27/01/2017</td>\n",
              "      <td>Standard Class</td>\n",
              "      <td>CB-12535</td>\n",
              "      <td>Claudia Bergmann</td>\n",
              "      <td>Corporate</td>\n",
              "      <td>United States</td>\n",
              "      <td>Burlington</td>\n",
              "      <td>Vermont</td>\n",
              "      <td>05401</td>\n",
              "      <td>East</td>\n",
              "      <td>OFF-ST-10001526</td>\n",
              "      <td>Office Supplies</td>\n",
              "      <td>Storage</td>\n",
              "      <td>Iceberg Mobile Mega Data/Printer Cart</td>\n",
              "      <td>1564.29</td>\n",
              "    </tr>\n",
              "    <tr>\n",
              "      <th>9386</th>\n",
              "      <td>9387</td>\n",
              "      <td>US-2018-127292</td>\n",
              "      <td>19/01/2018</td>\n",
              "      <td>23/01/2018</td>\n",
              "      <td>Standard Class</td>\n",
              "      <td>RM-19375</td>\n",
              "      <td>Raymond Messe</td>\n",
              "      <td>Consumer</td>\n",
              "      <td>United States</td>\n",
              "      <td>Burlington</td>\n",
              "      <td>Vermont</td>\n",
              "      <td>05401</td>\n",
              "      <td>East</td>\n",
              "      <td>OFF-PA-10000157</td>\n",
              "      <td>Office Supplies</td>\n",
              "      <td>Paper</td>\n",
              "      <td>Xerox 191</td>\n",
              "      <td>79.92</td>\n",
              "    </tr>\n",
              "    <tr>\n",
              "      <th>9387</th>\n",
              "      <td>9388</td>\n",
              "      <td>US-2018-127292</td>\n",
              "      <td>19/01/2018</td>\n",
              "      <td>23/01/2018</td>\n",
              "      <td>Standard Class</td>\n",
              "      <td>RM-19375</td>\n",
              "      <td>Raymond Messe</td>\n",
              "      <td>Consumer</td>\n",
              "      <td>United States</td>\n",
              "      <td>Burlington</td>\n",
              "      <td>Vermont</td>\n",
              "      <td>05401</td>\n",
              "      <td>East</td>\n",
              "      <td>OFF-PA-10001970</td>\n",
              "      <td>Office Supplies</td>\n",
              "      <td>Paper</td>\n",
              "      <td>Xerox 1881</td>\n",
              "      <td>12.28</td>\n",
              "    </tr>\n",
              "    <tr>\n",
              "      <th>9388</th>\n",
              "      <td>9389</td>\n",
              "      <td>US-2018-127292</td>\n",
              "      <td>19/01/2018</td>\n",
              "      <td>23/01/2018</td>\n",
              "      <td>Standard Class</td>\n",
              "      <td>RM-19375</td>\n",
              "      <td>Raymond Messe</td>\n",
              "      <td>Consumer</td>\n",
              "      <td>United States</td>\n",
              "      <td>Burlington</td>\n",
              "      <td>Vermont</td>\n",
              "      <td>05401</td>\n",
              "      <td>East</td>\n",
              "      <td>OFF-AP-10000828</td>\n",
              "      <td>Office Supplies</td>\n",
              "      <td>Appliances</td>\n",
              "      <td>Avanti 4.4 Cu. Ft. Refrigerator</td>\n",
              "      <td>542.94</td>\n",
              "    </tr>\n",
              "    <tr>\n",
              "      <th>9389</th>\n",
              "      <td>9390</td>\n",
              "      <td>US-2018-127292</td>\n",
              "      <td>19/01/2018</td>\n",
              "      <td>23/01/2018</td>\n",
              "      <td>Standard Class</td>\n",
              "      <td>RM-19375</td>\n",
              "      <td>Raymond Messe</td>\n",
              "      <td>Consumer</td>\n",
              "      <td>United States</td>\n",
              "      <td>Burlington</td>\n",
              "      <td>Vermont</td>\n",
              "      <td>05401</td>\n",
              "      <td>East</td>\n",
              "      <td>OFF-EN-10001509</td>\n",
              "      <td>Office Supplies</td>\n",
              "      <td>Envelopes</td>\n",
              "      <td>Poly String Tie Envelopes</td>\n",
              "      <td>2.04</td>\n",
              "    </tr>\n",
              "    <tr>\n",
              "      <th>9741</th>\n",
              "      <td>9742</td>\n",
              "      <td>CA-2016-117086</td>\n",
              "      <td>08/11/2016</td>\n",
              "      <td>12/11/2016</td>\n",
              "      <td>Standard Class</td>\n",
              "      <td>QJ-19255</td>\n",
              "      <td>Quincy Jones</td>\n",
              "      <td>Corporate</td>\n",
              "      <td>United States</td>\n",
              "      <td>Burlington</td>\n",
              "      <td>Vermont</td>\n",
              "      <td>05401</td>\n",
              "      <td>East</td>\n",
              "      <td>FUR-BO-10004834</td>\n",
              "      <td>Furniture</td>\n",
              "      <td>Bookcases</td>\n",
              "      <td>Riverside Palais Royal Lawyers Bookcase, Royal...</td>\n",
              "      <td>4404.90</td>\n",
              "    </tr>\n",
              "  </tbody>\n",
              "</table>\n",
              "</div>\n",
              "      <button class=\"colab-df-convert\" onclick=\"convertToInteractive('df-cb1191a5-7acf-4ae8-ab4e-940bf2286a4b')\"\n",
              "              title=\"Convert this dataframe to an interactive table.\"\n",
              "              style=\"display:none;\">\n",
              "        \n",
              "  <svg xmlns=\"http://www.w3.org/2000/svg\" height=\"24px\"viewBox=\"0 0 24 24\"\n",
              "       width=\"24px\">\n",
              "    <path d=\"M0 0h24v24H0V0z\" fill=\"none\"/>\n",
              "    <path d=\"M18.56 5.44l.94 2.06.94-2.06 2.06-.94-2.06-.94-.94-2.06-.94 2.06-2.06.94zm-11 1L8.5 8.5l.94-2.06 2.06-.94-2.06-.94L8.5 2.5l-.94 2.06-2.06.94zm10 10l.94 2.06.94-2.06 2.06-.94-2.06-.94-.94-2.06-.94 2.06-2.06.94z\"/><path d=\"M17.41 7.96l-1.37-1.37c-.4-.4-.92-.59-1.43-.59-.52 0-1.04.2-1.43.59L10.3 9.45l-7.72 7.72c-.78.78-.78 2.05 0 2.83L4 21.41c.39.39.9.59 1.41.59.51 0 1.02-.2 1.41-.59l7.78-7.78 2.81-2.81c.8-.78.8-2.07 0-2.86zM5.41 20L4 18.59l7.72-7.72 1.47 1.35L5.41 20z\"/>\n",
              "  </svg>\n",
              "      </button>\n",
              "      \n",
              "  <style>\n",
              "    .colab-df-container {\n",
              "      display:flex;\n",
              "      flex-wrap:wrap;\n",
              "      gap: 12px;\n",
              "    }\n",
              "\n",
              "    .colab-df-convert {\n",
              "      background-color: #E8F0FE;\n",
              "      border: none;\n",
              "      border-radius: 50%;\n",
              "      cursor: pointer;\n",
              "      display: none;\n",
              "      fill: #1967D2;\n",
              "      height: 32px;\n",
              "      padding: 0 0 0 0;\n",
              "      width: 32px;\n",
              "    }\n",
              "\n",
              "    .colab-df-convert:hover {\n",
              "      background-color: #E2EBFA;\n",
              "      box-shadow: 0px 1px 2px rgba(60, 64, 67, 0.3), 0px 1px 3px 1px rgba(60, 64, 67, 0.15);\n",
              "      fill: #174EA6;\n",
              "    }\n",
              "\n",
              "    [theme=dark] .colab-df-convert {\n",
              "      background-color: #3B4455;\n",
              "      fill: #D2E3FC;\n",
              "    }\n",
              "\n",
              "    [theme=dark] .colab-df-convert:hover {\n",
              "      background-color: #434B5C;\n",
              "      box-shadow: 0px 1px 3px 1px rgba(0, 0, 0, 0.15);\n",
              "      filter: drop-shadow(0px 1px 2px rgba(0, 0, 0, 0.3));\n",
              "      fill: #FFFFFF;\n",
              "    }\n",
              "  </style>\n",
              "\n",
              "      <script>\n",
              "        const buttonEl =\n",
              "          document.querySelector('#df-cb1191a5-7acf-4ae8-ab4e-940bf2286a4b button.colab-df-convert');\n",
              "        buttonEl.style.display =\n",
              "          google.colab.kernel.accessAllowed ? 'block' : 'none';\n",
              "\n",
              "        async function convertToInteractive(key) {\n",
              "          const element = document.querySelector('#df-cb1191a5-7acf-4ae8-ab4e-940bf2286a4b');\n",
              "          const dataTable =\n",
              "            await google.colab.kernel.invokeFunction('convertToInteractive',\n",
              "                                                     [key], {});\n",
              "          if (!dataTable) return;\n",
              "\n",
              "          const docLinkHtml = 'Like what you see? Visit the ' +\n",
              "            '<a target=\"_blank\" href=https://colab.research.google.com/notebooks/data_table.ipynb>data table notebook</a>'\n",
              "            + ' to learn more about interactive tables.';\n",
              "          element.innerHTML = '';\n",
              "          dataTable['output_type'] = 'display_data';\n",
              "          await google.colab.output.renderOutput(dataTable, element);\n",
              "          const docLink = document.createElement('div');\n",
              "          docLink.innerHTML = docLinkHtml;\n",
              "          element.appendChild(docLink);\n",
              "        }\n",
              "      </script>\n",
              "    </div>\n",
              "  </div>\n",
              "  "
            ]
          },
          "metadata": {},
          "execution_count": 41
        }
      ],
      "source": [
        "# Visualizando novamente as informações da base\n",
        "df[(df['City'] == 'Burlington') & (df['State'] == 'Vermont')]"
      ]
    },
    {
      "cell_type": "markdown",
      "metadata": {
        "id": "ehmCPbE1O359"
      },
      "source": [
        "### 3. <font color=\"blue\"> Como foi a venda nesse período? </font>\n",
        "Aqui temos 2 questões que precisamos pensar:\n",
        "- **Quais <font color=\"blue\">colunas</font> vamos usar?**\n",
        "    - Podemos verificar a venda na coluna \"Sales\"\"\n",
        "    - O período nós podemos usar a coluna \"Order Date\", mas precisamos entender melhor essa coluna\n",
        "- **Qual o <font color=\"blue\">período</font> queremos exibir?**"
      ]
    },
    {
      "cell_type": "code",
      "execution_count": null,
      "metadata": {
        "id": "6Xq-bbLOO359"
      },
      "outputs": [],
      "source": [
        "# Para entender a data, podemos ver de qual período estamos falando"
      ]
    },
    {
      "cell_type": "markdown",
      "metadata": {
        "id": "u8s7HUzcO35-"
      },
      "source": [
        "**<font color=\"red\">CUIDADO:</font> Se a coluna de data estiver como texto e não como data, a ordenação vai ser pelo texto e não pela data!**"
      ]
    },
    {
      "cell_type": "markdown",
      "metadata": {
        "id": "DWWTKSh6O35-"
      },
      "source": [
        "**Podemos converter uma coluna para data usando o to_datetime do pandas**\n",
        "<br><br>\n",
        "base[\"coluna\"] = pd.**to_datetime(**base[\"coluna\"]**)**\n",
        "- No datetime, caso tenha apenas a data, a hora ficaria como 00:00:00\n",
        "- Se quisermos considerar apenas a data, podemos usar o **.date** da biblioteca **datetime**"
      ]
    },
    {
      "cell_type": "code",
      "execution_count": null,
      "metadata": {
        "id": "b_CCUkM8O35-"
      },
      "outputs": [],
      "source": [
        "import datetime as dt"
      ]
    },
    {
      "cell_type": "code",
      "execution_count": null,
      "metadata": {
        "id": "OwuhBF6AO35_"
      },
      "outputs": [],
      "source": [
        "# Convertendo as colunas de data para datetime"
      ]
    },
    {
      "cell_type": "code",
      "execution_count": null,
      "metadata": {
        "id": "HwUfedQ6O35_"
      },
      "outputs": [],
      "source": [
        "# Para entender a data, podemos ver de qual período estamos falando"
      ]
    },
    {
      "cell_type": "code",
      "execution_count": null,
      "metadata": {
        "id": "jP70dTz6O36A"
      },
      "outputs": [],
      "source": [
        "# Buscando o máximo da data"
      ]
    },
    {
      "cell_type": "markdown",
      "metadata": {
        "id": "xE4rWVEeO36A"
      },
      "source": [
        "- Estamos falando de 4 anos de análise, começando em jan/2015 e indo até dez/2018"
      ]
    },
    {
      "cell_type": "markdown",
      "metadata": {
        "id": "gOIvERDgO36A"
      },
      "source": [
        "#### Como estamos falando de um período grande de anos, podemos começar a visualização pelos anos\n",
        "- Para isso, podemos usar o **.year** da biblioteca datetime para criar uma nova coluna apenas com o ano dessa base"
      ]
    },
    {
      "cell_type": "markdown",
      "metadata": {
        "id": "6C2zG439O36A"
      },
      "source": [
        "# Venda por ano"
      ]
    },
    {
      "cell_type": "code",
      "execution_count": null,
      "metadata": {
        "id": "G1hW3rd-O36B"
      },
      "outputs": [],
      "source": [
        "# Criando uma coluna com o ano"
      ]
    },
    {
      "cell_type": "markdown",
      "metadata": {
        "id": "zX_oIXKVO36B"
      },
      "source": [
        "#### Lembram do groupby()?"
      ]
    },
    {
      "cell_type": "code",
      "execution_count": null,
      "metadata": {
        "id": "27nkdYAqO36B"
      },
      "outputs": [],
      "source": [
        "# Usando essa coluna no group by e criando um plot de barras"
      ]
    },
    {
      "cell_type": "markdown",
      "metadata": {
        "id": "ocHzJ-DyO36B"
      },
      "source": [
        "## Melhorando o visual desse gráfico\n",
        "- Como já vimos no último tópico, podemos melhorar muito a visualização desse gráfico. Vamos fazer isso!\n",
        "- Primeiramente vamos traçar um gráfico usando o que aprendemos de matplotlib\n",
        "    - https://matplotlib.org/stable/plot_types/basic/plot.html#sphx-glr-plot-types-basic-plot-py\n",
        "    - Sugestão de cor: `#84ba5b`"
      ]
    },
    {
      "cell_type": "code",
      "execution_count": null,
      "metadata": {
        "id": "x2vIRsfbO36C"
      },
      "outputs": [],
      "source": [
        "import matplotlib.pyplot as plt"
      ]
    },
    {
      "cell_type": "code",
      "execution_count": null,
      "metadata": {
        "id": "sysUqs3FO36C"
      },
      "outputs": [],
      "source": [
        "# Criando um gráfico com o matplotlib usando o groupby"
      ]
    },
    {
      "cell_type": "markdown",
      "metadata": {
        "id": "Se5-lZfVO36D"
      },
      "source": [
        "**Adicionando o título e melhorando os textos do eixo**\n",
        "- Vamos adicionar o título e melhorar o eixo x\n",
        "    - O `.set_title` vai permitir colocar título e ajustar os parâmetros desse títulos\n",
        "        - fontsize: Tamanho da fonte\n",
        "        - fontweight: Espessura da fonte\n",
        "        - color: Cor da fonte\n",
        "    - O `xaxis.set_ticks` vai definir os valores mostrados no eixo x\n",
        "    - O `.tick_params(axis='x')` vai ajustar o parâmetro do eixo x\n",
        "        - labelsize: tamanho do label"
      ]
    },
    {
      "cell_type": "code",
      "execution_count": null,
      "metadata": {
        "id": "pmRiI2aUO36E"
      },
      "outputs": [],
      "source": [
        "fig,ax = plt.subplots(\n",
        "            figsize = (9,4) # Tamanho da figura\n",
        "        )\n",
        "\n",
        "soma_ano = base.groupby(\"Ano\")[\"Sales\"].sum() # Valores que vamos usar para criar o nosso gráfico\n",
        "\n",
        "ax.bar(soma_ano.index,soma_ano.values,\n",
        "       color=\"#84ba5b\" # Cor das barras\n",
        "      )\n",
        "\n",
        "plt.show()"
      ]
    },
    {
      "cell_type": "markdown",
      "metadata": {
        "id": "pp2qDas4O36E"
      },
      "source": [
        "**Adicionando o rótulo de dados**\n",
        "- Para adicionar rótulo de dados, vamos usar o `.annotate` como vimos na última aula"
      ]
    },
    {
      "cell_type": "code",
      "execution_count": null,
      "metadata": {
        "id": "xAXIhOfFO36E"
      },
      "outputs": [],
      "source": [
        "import numpy as np"
      ]
    },
    {
      "cell_type": "code",
      "execution_count": null,
      "metadata": {
        "id": "TQibSJMoO36F"
      },
      "outputs": [],
      "source": [
        "fig,ax = plt.subplots(\n",
        "            figsize = (9,4) # Tamanho da figura\n",
        "        )\n",
        "\n",
        "soma_ano = base.groupby(\"Ano\")[\"Sales\"].sum() # Valores que vamos usar para criar o nosso gráfico\n",
        "\n",
        "ax.bar(soma_ano.index,soma_ano.values,\n",
        "       color=\"#84ba5b\" # Cor das barras\n",
        "      )\n",
        "\n",
        "ax.set_title(\"VENDAS POR ANO\", # Título do gráfico\n",
        "             fontsize=20, # Tamanho da fonte\n",
        "             fontweight='bold', # Espessura da fonte\n",
        "             color='#00b247' # Cor da fonte\n",
        "            )\n",
        "\n",
        "ax.xaxis.set_ticks([2015,2016,2017,2018]) # Ajustando os valores de x\n",
        "ax.tick_params(axis='x',labelsize=14) # Melhorando o visual do eixo x\n",
        "\n",
        "plt.show()"
      ]
    },
    {
      "cell_type": "markdown",
      "metadata": {
        "id": "TRhG87fJO36F"
      },
      "source": [
        "**Melhorando a visualização do gráfico**\n",
        "- Para o eixo y, podemos fazer igual fizemos para o eixo x\n",
        "    - Com o `.set_yticks` vamos ajustar os valores do eixo y\n",
        "    - O `.yaxis.set_visible(False)` permite retirar os valores do eixo y, tornando nosso visual mais claro\n",
        "- Já para retirar as bordas do gráfico, basta usar o `.spines['top'].set_visible(False)`"
      ]
    },
    {
      "cell_type": "code",
      "execution_count": null,
      "metadata": {
        "id": "7oEPv7ovO36G"
      },
      "outputs": [],
      "source": [
        "fig,ax = plt.subplots(\n",
        "            figsize = (9,4) # Tamanho da figura\n",
        "        )\n",
        "\n",
        "soma_ano = base.groupby(\"Ano\")[\"Sales\"].sum() # Valores que vamos usar para criar o nosso gráfico\n",
        "\n",
        "ax.bar(soma_ano.index,soma_ano.values,\n",
        "       color=\"#84ba5b\" # Cor das barras\n",
        "      )\n",
        "\n",
        "ax.set_title(\"VENDAS POR ANO\", # Título do gráfico\n",
        "             fontsize=20, # Tamanho da fonte\n",
        "             fontweight='bold', # Espessura da fonte\n",
        "             color='#00b247' # Cor da fonte\n",
        "            )\n",
        "\n",
        "ax.xaxis.set_ticks([2015,2016,2017,2018]) # Ajustando os valores de x\n",
        "ax.tick_params(axis='x',labelsize=14) # Melhorando o visual do eixo x\n",
        "\n",
        "# O Annotate é quem vai permitir que a gente coloque rótulo nos dados\n",
        "for i in np.arange(0,4):\n",
        "    ax.annotate('{:,.0f}'.format(soma_ano.values[i]).replace(',', '.'), # Valores que vão ser mostrados como rótulos, já formatados\n",
        "                (soma_ano.index[i],soma_ano.values[i]), # Posição (x,y que esses valores vão estar)\n",
        "                ha=\"center\",  # Alinhamento horizontal do texto\n",
        "                va=\"top\", # Alinhamento vertical do texto\n",
        "                xytext=(0,+15), # Deslocamento em relação ao ponto que o texto estaria\n",
        "                textcoords=\"offset points\",  # Sistema de coordenadas que o xytext vai ter como referência (nesse caso será em pontos, não em pixels)\n",
        "                fontsize=14, # Tamanho da fonte dos rótulos\n",
        "                fontweight='bold', # Espessura da fonte dos rótulos\n",
        "                color=\"green\" # Cor dos rótulos\n",
        "            )\n",
        "\n",
        "plt.show()"
      ]
    },
    {
      "cell_type": "markdown",
      "metadata": {
        "id": "Fj1dUmgTO36H"
      },
      "source": [
        "**Como resultado final, teremos o gráfico abaixo**"
      ]
    },
    {
      "cell_type": "code",
      "execution_count": null,
      "metadata": {
        "id": "YEscEyXZO36H"
      },
      "outputs": [],
      "source": [
        "fig,ax = plt.subplots(\n",
        "            figsize = (9,4) # Tamanho da figura\n",
        "        )\n",
        "\n",
        "soma_ano = base.groupby(\"Ano\")[\"Sales\"].sum() # Valores que vamos usar para criar o nosso gráfico\n",
        "\n",
        "ax.bar(soma_ano.index,soma_ano.values,\n",
        "       color=\"#84ba5b\" # Cor das barras\n",
        "      )\n",
        "\n",
        "ax.set_title(\"VENDAS POR ANO\", # Título do gráfico\n",
        "             fontsize=20, # Tamanho da fonte\n",
        "             fontweight='bold', # Espessura da fonte\n",
        "             color='#00b247' # Cor da fonte\n",
        "            )\n",
        "\n",
        "ax.xaxis.set_ticks([2015,2016,2017,2018]) # Ajustando os valores de x\n",
        "ax.tick_params(axis='x',labelsize=14) # Melhorando o visual do eixo x\n",
        "\n",
        "# O Annotate é quem vai permitir que a gente coloque rótulo nos dados\n",
        "for i in np.arange(0,4):\n",
        "    ax.annotate('{:,.0f}'.format(soma_ano.values[i]).replace(',', '.'), # Valores que vão ser mostrados como rótulos, já formatados\n",
        "                (soma_ano.index[i],soma_ano.values[i]), # Posição (x,y que esses valores vão estar)\n",
        "                ha=\"center\",  # Alinhamento horizontal do texto\n",
        "                va=\"top\", # Alinhamento vertical do texto\n",
        "                xytext=(0,+15), # Deslocamento em relação ao ponto que o texto estaria\n",
        "                textcoords=\"offset points\",  # Sistema de coordenadas que o xytext vai ter como referência (nesse caso será em pontos, não em pixels)\n",
        "                fontsize=14, # Tamanho da fonte dos rótulos\n",
        "                fontweight='bold', # Espessura da fonte dos rótulos\n",
        "                color=\"green\" # Cor dos rótulos\n",
        "            )\n",
        "    \n",
        "ax.set_yticks(np.array([0,790000])) # Diminuindo o tamanho das barras para não cortar o rótulo\n",
        "ax.yaxis.set_visible(False) # Retirando os valores do eixo y\n",
        "\n",
        "ax.spines['top'].set_visible(False) # Retirando os traços do gráfico\n",
        "ax.spines['left'].set_visible(False)\n",
        "ax.spines['right'].set_visible(False)\n",
        "\n",
        "plt.show()"
      ]
    },
    {
      "cell_type": "markdown",
      "metadata": {
        "id": "HelT1YJUO36I"
      },
      "source": [
        "# Venda por mês"
      ]
    },
    {
      "cell_type": "markdown",
      "metadata": {
        "id": "1_t5YtlWO36I"
      },
      "source": [
        "#### Também podemos mostrar essa visão por meses\n",
        "- Para isso, podemos usar o **.month** da biblioteca datetime para criar uma nova coluna apenas com o mês dessa base"
      ]
    },
    {
      "cell_type": "code",
      "execution_count": null,
      "metadata": {
        "id": "o5rXGQDoO36I"
      },
      "outputs": [],
      "source": [
        "# Criando uma coluna com o mês"
      ]
    },
    {
      "cell_type": "code",
      "execution_count": null,
      "metadata": {
        "id": "G7MdUw-GO36I"
      },
      "outputs": [],
      "source": [
        "# Fazendo o groupby agora por mês e ano"
      ]
    },
    {
      "cell_type": "code",
      "execution_count": null,
      "metadata": {
        "id": "WGllHBguO36J"
      },
      "outputs": [],
      "source": [
        "# Verificando os valores gerados"
      ]
    },
    {
      "cell_type": "markdown",
      "metadata": {
        "id": "yBSP2KakO36J"
      },
      "source": [
        "**Com o <font color=\"blue\">.reset_index()</font> conseguimos transformar os índices em colunas e então aplicar todas as propriedades que conhecemos para o DataFrame**"
      ]
    },
    {
      "cell_type": "code",
      "execution_count": null,
      "metadata": {
        "id": "Bw5QSF-dO36J"
      },
      "outputs": [],
      "source": [
        "# Vamos transformar os índices em colunas\n",
        "soma_mes = soma_mes.reset_index()"
      ]
    },
    {
      "cell_type": "code",
      "execution_count": null,
      "metadata": {
        "id": "O1i8ItZgO36K"
      },
      "outputs": [],
      "source": [
        "# Visualizando a base novamente"
      ]
    },
    {
      "cell_type": "markdown",
      "metadata": {
        "id": "q421hlBWO36K"
      },
      "source": [
        "**Vamos usar o gráfico que fizemos na aula anterior para ir criando esse gráfico**"
      ]
    },
    {
      "cell_type": "code",
      "execution_count": null,
      "metadata": {
        "id": "qTbdYk-DO36K"
      },
      "outputs": [],
      "source": [
        "# Criando o gráfico de mês com o matplotlib\n",
        "fig,ax = plt.subplots(\n",
        "            figsize = (9,4) # Tamanho da figura\n",
        "        )\n",
        "\n",
        "ax.bar(soma_ano.index,soma_ano.values,\n",
        "       color=\"#84ba5b\" # Cor das barras\n",
        "      )\n",
        "\n",
        "plt.show()"
      ]
    },
    {
      "cell_type": "markdown",
      "metadata": {
        "id": "8P050Hm8O36K"
      },
      "source": [
        "**Agora vamos adicionar a barra do ano de 2016**\n",
        "- Vamos adicionar um gráfico de barras com os dados de 2016"
      ]
    },
    {
      "cell_type": "code",
      "execution_count": null,
      "metadata": {
        "id": "l7Gg30REO36L"
      },
      "outputs": [],
      "source": [
        "fig,ax = plt.subplots(\n",
        "            figsize = (9,4) # Tamanho da figura\n",
        "        )\n",
        "\n",
        "ax.bar(soma_mes[soma_mes.Ano == 2015].Mes.values,soma_mes[soma_mes.Ano == 2015].Sales.values,\n",
        "       color=\"#00c698\", # Cor das barras\n",
        "       label=2015 # Label dos dados\n",
        "      )\n",
        "\n",
        "plt.show()"
      ]
    },
    {
      "cell_type": "markdown",
      "metadata": {
        "id": "klQqCQXcO36L"
      },
      "source": [
        "**E então, deslocar as barras**\n",
        "- Para isso, vamos usar o mesmo raciocínio do width que usamos na aula anterior\n",
        "    - Para diferenciar os dados, também podemos usar o `label` para informar qual é cada um dos gráficos"
      ]
    },
    {
      "cell_type": "code",
      "execution_count": null,
      "metadata": {
        "id": "7vQHAGcNO36L"
      },
      "outputs": [],
      "source": [
        "fig,ax = plt.subplots(\n",
        "            figsize = (9,4) # Tamanho da figura\n",
        "        )\n",
        "\n",
        "ax.bar(soma_mes[soma_mes.Ano == 2015].Mes.values,\n",
        "       soma_mes[soma_mes.Ano == 2015].Sales.values,\n",
        "       color=\"#00c698\"\n",
        "      )\n",
        "ax.bar(soma_mes[soma_mes.Ano == 2016].Mes.values, \n",
        "       soma_mes[soma_mes.Ano == 2016].Sales.values,\n",
        "       color=\"#00a9b5\"\n",
        "      )\n",
        "\n",
        "plt.show()"
      ]
    },
    {
      "cell_type": "markdown",
      "metadata": {
        "id": "NNYhuIJdO36L"
      },
      "source": [
        "**Podemos agora adicionar todas as barras**"
      ]
    },
    {
      "cell_type": "code",
      "execution_count": null,
      "metadata": {
        "id": "wRkMCZ-pO36L"
      },
      "outputs": [],
      "source": [
        "fig,ax = plt.subplots(\n",
        "            figsize = (9,4) # Tamanho da figura\n",
        "        )\n",
        "\n",
        "### VAMOS AJUSTAR ESSA PARTE DO CÓDIGO ADICIONANDO AS PARTES DO TAMANHO DAS BARRAS\n",
        "wid = 0.3\n",
        "\n",
        "ax.bar(soma_mes[soma_mes.Ano == 2015].Mes.values-wid/2, # <- DESLOCANDO A BARRA PARA A ESQUERDA\n",
        "       soma_mes[soma_mes.Ano == 2015].Sales.values,\n",
        "       color=\"#00c698\", # Cor das barras\n",
        "       label=2015, # Label dos dados\n",
        "       width=wid # Largura das barras\n",
        "      )\n",
        "ax.bar(soma_mes[soma_mes.Ano == 2016].Mes.values+wid/2, # <- DESLOCANDO A BARRA PARA A DIREITA\n",
        "       soma_mes[soma_mes.Ano == 2016].Sales.values,\n",
        "       color=\"#00a9b5\", \n",
        "       label=2016,\n",
        "       width=wid \n",
        "      )\n",
        "\n",
        "ax.legend()\n",
        "\n",
        "plt.show()"
      ]
    },
    {
      "cell_type": "markdown",
      "metadata": {
        "id": "j8wi3IjFO36M"
      },
      "source": [
        "**E vamos colocar rótulo apenas em 2018 para não poluir muito o gráfico**"
      ]
    },
    {
      "cell_type": "code",
      "execution_count": null,
      "metadata": {
        "id": "nPtuFaJGO36M"
      },
      "outputs": [],
      "source": [
        "fig,ax = plt.subplots(\n",
        "            figsize = (16,4) # Tamanho da figura\n",
        "        )\n",
        "\n",
        "wid = 0.2 # Tamanho das barras\n",
        "\n",
        "ax.bar(soma_mes[soma_mes.Ano == 2015].Mes.values-wid-wid/2, # Ajuste da posição das barras\n",
        "       soma_mes[soma_mes.Ano == 2015].Sales.values,\n",
        "       color=\"#00c698\", # Cor das barras\n",
        "       label=2015, # Label dos dados\n",
        "       width=wid # Largura das barras\n",
        "      )\n",
        "ax.bar(soma_mes[soma_mes.Ano == 2016].Mes.values-wid/2, # Ajuste da posição das barras\n",
        "       soma_mes[soma_mes.Ano == 2016].Sales.values,\n",
        "       color=\"#00a9b5\", \n",
        "       label=2016,\n",
        "       width=wid \n",
        "      )\n",
        "\n",
        "# Adicionando o restante das barras\n",
        "ax.bar(soma_mes[soma_mes.Ano == 2017].Mes.values+wid/2, # Ajuste da posição das barras\n",
        "       soma_mes[soma_mes.Ano == 2017].Sales.values,\n",
        "       color=\"#008ac5\", \n",
        "       label=2017,\n",
        "       width=wid \n",
        "      )\n",
        "ax.bar(soma_mes[soma_mes.Ano == 2018].Mes.values+wid+wid/2, # Ajuste da posição das barras\n",
        "       soma_mes[soma_mes.Ano == 2018].Sales.values,\n",
        "       color=\"#0069c0\", \n",
        "       label=2018,\n",
        "       width=wid \n",
        "      )\n",
        "ax.legend()\n",
        "    \n",
        "plt.show()"
      ]
    },
    {
      "cell_type": "markdown",
      "metadata": {
        "id": "RGihYO3jO36O"
      },
      "source": [
        "**Melhorando o visual retirando as bordas e ajustando o texto do eixo x**"
      ]
    },
    {
      "cell_type": "code",
      "execution_count": null,
      "metadata": {
        "id": "2Dt-63M8O36P"
      },
      "outputs": [],
      "source": [
        "fig,ax = plt.subplots(\n",
        "            figsize = (16,4) # Tamanho da figura\n",
        "        )\n",
        "\n",
        "wid = 0.2 # Tamanho das barras\n",
        "\n",
        "ax.bar(soma_mes[soma_mes.Ano == 2015].Mes.values-wid-wid/2, # Ajuste da posição das barras\n",
        "       soma_mes[soma_mes.Ano == 2015].Sales.values,\n",
        "       color=\"#00c698\", # Cor das barras\n",
        "       label=2015, # Label dos dados\n",
        "       width=wid # Largura das barras\n",
        "      )\n",
        "ax.bar(soma_mes[soma_mes.Ano == 2016].Mes.values-wid/2, \n",
        "       soma_mes[soma_mes.Ano == 2016].Sales.values,\n",
        "       color=\"#00a9b5\", \n",
        "       label=2016,\n",
        "       width=wid \n",
        "      )\n",
        "\n",
        "# Adicionando o restante das barras\n",
        "ax.bar(soma_mes[soma_mes.Ano == 2017].Mes.values+wid/2, \n",
        "       soma_mes[soma_mes.Ano == 2017].Sales.values,\n",
        "       color=\"#008ac5\", \n",
        "       label=2017,\n",
        "       width=wid \n",
        "      )\n",
        "ax.bar(soma_mes[soma_mes.Ano == 2018].Mes.values+wid+wid/2, \n",
        "       soma_mes[soma_mes.Ano == 2018].Sales.values,\n",
        "       color=\"#0069c0\", \n",
        "       label=2018,\n",
        "       width=wid \n",
        "      )\n",
        "ax.legend()\n",
        "\n",
        "# Adicionando o rótulo dos dados para 2018\n",
        "for i in np.arange(0,12):\n",
        "    ax.annotate('{:,.0f}k'.format(soma_mes[soma_mes.Ano == 2018].Sales.values[i]/1000), # Valores que vão ser mostrados como rótulos, já formatados\n",
        "                (soma_mes[soma_mes.Ano == 2018].Mes.values[i]+wid+wid/2,soma_mes[soma_mes.Ano == 2018].Sales.values[i]), # Posição (x,y que esses valores vão estar)\n",
        "                ha=\"center\",  # Alinhamento horizontal do texto\n",
        "                va=\"top\", # Alinhamento vertical do texto\n",
        "                xytext=(5,12), # Deslocamento em relação ao ponto que o texto estaria\n",
        "                textcoords=\"offset points\",  # Sistema de coordenadas que o xytext vai ter como referência (nesse caso será em pontos, não em pixels)\n",
        "                fontsize=10, # Tamanho da fonte dos rótulos\n",
        "                fontweight='bold', # Espessura da fonte dos rótulos\n",
        "                color=\"#0069c0\" # Cor dos rótulos\n",
        "            )\n",
        "    \n",
        "plt.show()"
      ]
    },
    {
      "cell_type": "markdown",
      "metadata": {
        "id": "Kb3R2hKmO36Q"
      },
      "source": [
        "**Como resultado final, teremos o gráfico abaixo**"
      ]
    },
    {
      "cell_type": "code",
      "execution_count": null,
      "metadata": {
        "id": "oOHZ5vGcO36S"
      },
      "outputs": [],
      "source": [
        "fig,ax = plt.subplots(\n",
        "            figsize = (16,4) # Tamanho da figura\n",
        "        )\n",
        "\n",
        "wid = 0.2 # Tamanho das barras\n",
        "\n",
        "ax.bar(soma_mes[soma_mes.Ano == 2015].Mes.values-wid-wid/2, # Ajuste da posição das barras\n",
        "       soma_mes[soma_mes.Ano == 2015].Sales.values,\n",
        "       color=\"#00c698\", # Cor das barras\n",
        "       label=2015, # Label dos dados\n",
        "       width=wid # Largura das barras\n",
        "      )\n",
        "ax.bar(soma_mes[soma_mes.Ano == 2016].Mes.values-wid/2, \n",
        "       soma_mes[soma_mes.Ano == 2016].Sales.values,\n",
        "       color=\"#00a9b5\", \n",
        "       label=2016,\n",
        "       width=wid \n",
        "      )\n",
        "\n",
        "# Adicionando o restante das barras\n",
        "ax.bar(soma_mes[soma_mes.Ano == 2017].Mes.values+wid/2, \n",
        "       soma_mes[soma_mes.Ano == 2017].Sales.values,\n",
        "       color=\"#008ac5\", \n",
        "       label=2017,\n",
        "       width=wid \n",
        "      )\n",
        "ax.bar(soma_mes[soma_mes.Ano == 2018].Mes.values+wid+wid/2, \n",
        "       soma_mes[soma_mes.Ano == 2018].Sales.values,\n",
        "       color=\"#0069c0\", \n",
        "       label=2018,\n",
        "       width=wid \n",
        "      )\n",
        "ax.legend()\n",
        "\n",
        "# Adicionando o rótulo dos dados para 2018\n",
        "for i in np.arange(0,12):\n",
        "    ax.annotate('{:,.0f}k'.format(soma_mes[soma_mes.Ano == 2018].Sales.values[i]/1000), # Valores que vão ser mostrados como rótulos, já formatados\n",
        "                (soma_mes[soma_mes.Ano == 2018].Mes.values[i]+wid+wid/2,soma_mes[soma_mes.Ano == 2018].Sales.values[i]), # Posição (x,y que esses valores vão estar)\n",
        "                ha=\"center\",  # Alinhamento horizontal do texto\n",
        "                va=\"top\", # Alinhamento vertical do texto\n",
        "                xytext=(5,12), # Deslocamento em relação ao ponto que o texto estaria\n",
        "                textcoords=\"offset points\",  # Sistema de coordenadas que o xytext vai ter como referência (nesse caso será em pontos, não em pixels)\n",
        "                fontsize=10, # Tamanho da fonte dos rótulos\n",
        "                fontweight='bold', # Espessura da fonte dos rótulos\n",
        "                color=\"#0069c0\" # Cor dos rótulos\n",
        "            )\n",
        "    \n",
        "ax.yaxis.set_visible(False) # Retirando os valores do eixo y\n",
        "\n",
        "ax.spines['top'].set_visible(False) # Retirando os traços do gráfico\n",
        "ax.spines['left'].set_visible(False)\n",
        "ax.spines['right'].set_visible(False)\n",
        "\n",
        "ax.xaxis.set_ticks(np.arange(1,13)) # Ajustando os valores de x\n",
        "ax.set_xticklabels(['Jan','Fev','Mar','Abr','Mai','Jun','Jul','Ago','Set','Out','Nov','Dez'])\n",
        "ax.tick_params(axis='x',labelsize=14) # Melhorando o visual do eixo x\n",
        "    \n",
        "plt.show()"
      ]
    },
    {
      "cell_type": "markdown",
      "metadata": {
        "id": "zJAWxzhLO36S"
      },
      "source": [
        "### 4. <font color=\"blue\"> Qual foi a categoria mais vendida? </font>\n",
        "Precisamos primeiro entender a informação de categoria"
      ]
    },
    {
      "cell_type": "code",
      "execution_count": null,
      "metadata": {
        "id": "381rCkWTO36S"
      },
      "outputs": [],
      "source": [
        "# Podemos fazer um groupby da categoria"
      ]
    },
    {
      "cell_type": "markdown",
      "metadata": {
        "id": "I-TrEpKwO36S"
      },
      "source": [
        "**Como estamos falando de 4 anos diferentes, seria interessante entender como foram essas categorias em cada um dos anos**"
      ]
    },
    {
      "cell_type": "code",
      "execution_count": null,
      "metadata": {
        "id": "EUZJVCy8O36T"
      },
      "outputs": [],
      "source": [
        "# Agrupando por ano e categoria"
      ]
    },
    {
      "cell_type": "markdown",
      "metadata": {
        "id": "GrwqVbP2O36T"
      },
      "source": [
        "**Uma forma de visualizar melhor essas informações é fazer um gráfico de barras com esses dados, bem semelhante ao que fizemos acima**"
      ]
    },
    {
      "cell_type": "code",
      "execution_count": null,
      "metadata": {
        "id": "ybG2u4SOO36T"
      },
      "outputs": [],
      "source": [
        "# Criando agora a base de categorias como fizemos anteriormente"
      ]
    },
    {
      "cell_type": "code",
      "execution_count": null,
      "metadata": {
        "id": "dNXoE7BnO36T"
      },
      "outputs": [],
      "source": [
        "# Visualizando "
      ]
    },
    {
      "cell_type": "markdown",
      "metadata": {
        "id": "IP0q_nqJO36T"
      },
      "source": [
        "**Utilizando a mesma lógica do gráfico anterior**"
      ]
    },
    {
      "cell_type": "code",
      "execution_count": null,
      "metadata": {
        "id": "Gyvm4GH_O36T"
      },
      "outputs": [],
      "source": [
        "# Vamos utilizar o mesmo código do gráfico anterior para exibir por categorias"
      ]
    },
    {
      "cell_type": "markdown",
      "metadata": {
        "id": "E2NAZ3i1O36U"
      },
      "source": [
        "**Como resultado final, teremos o gráfico abaixo**"
      ]
    },
    {
      "cell_type": "code",
      "execution_count": null,
      "metadata": {
        "id": "JxXHKN8sO36U"
      },
      "outputs": [],
      "source": [
        "fig,ax = plt.subplots(\n",
        "            figsize = (16,4)\n",
        "        )\n",
        "\n",
        "wid = 0.2 \n",
        "\n",
        "ax.bar(categoria[categoria.Category == 'Furniture'].Ano.values-wid, # Como temos 3 colunas, vamos deslocar a largura da coluna inteira\n",
        "       categoria[categoria.Category == 'Furniture'].Sales.values,\n",
        "       color=\"#00c698\", \n",
        "       label='Furniture', # As legendas agora serão as categorias\n",
        "       width=wid\n",
        "      )\n",
        "\n",
        "ax.bar(categoria[categoria.Category == 'Office Supplies'].Ano.values, \n",
        "       categoria[categoria.Category == 'Office Supplies'].Sales.values,\n",
        "       color=\"#00a9b5\", \n",
        "       label='Office Supplies', \n",
        "       width=wid\n",
        "      )\n",
        "\n",
        "ax.bar(categoria[categoria.Category == 'Technology'].Ano.values+wid, \n",
        "       categoria[categoria.Category == 'Technology'].Sales.values,\n",
        "       color=\"#008ac5\", \n",
        "       label='Technology', \n",
        "       width=wid\n",
        "      )\n",
        "\n",
        "ax.legend()\n",
        "\n",
        "for i in np.arange(0,4):\n",
        "    ax.annotate('{:,.0f}k'.format(categoria[categoria.Category == 'Furniture'].Sales.values[i]/1000), \n",
        "                (categoria[categoria.Category == 'Furniture'].Ano.values[i]-wid,categoria[categoria.Category == 'Furniture'].Sales.values[i]), \n",
        "                ha=\"center\", va=\"top\", xytext=(0,15), textcoords=\"offset points\", \n",
        "                fontsize=12, fontweight='bold', color=\"#00c698\")\n",
        "    ax.annotate('{:,.0f}k'.format(categoria[categoria.Category == 'Office Supplies'].Sales.values[i]/1000), \n",
        "                (categoria[categoria.Category == 'Office Supplies'].Ano.values[i],categoria[categoria.Category == 'Office Supplies'].Sales.values[i]), \n",
        "                ha=\"center\", va=\"top\", xytext=(0,15), textcoords=\"offset points\", \n",
        "                fontsize=12, fontweight='bold', color=\"#00a9b5\")\n",
        "    ax.annotate('{:,.0f}k'.format(categoria[categoria.Category == 'Technology'].Sales.values[i]/1000), \n",
        "                (categoria[categoria.Category == 'Technology'].Ano.values[i]+wid,categoria[categoria.Category == 'Technology'].Sales.values[i]), \n",
        "                ha=\"center\", va=\"top\", xytext=(0,15), textcoords=\"offset points\", \n",
        "                fontsize=12, fontweight='bold', color=\"#008ac5\")   \n",
        "    \n",
        "ax.set_yticks(np.array([0,350000]))\n",
        "ax.yaxis.set_visible(False) \n",
        "\n",
        "ax.spines['top'].set_visible(False) \n",
        "ax.spines['left'].set_visible(False)\n",
        "ax.spines['right'].set_visible(False)\n",
        "\n",
        "ax.xaxis.set_ticks(np.arange(2015,2019)) \n",
        "ax.tick_params(axis='x',labelsize=12) \n",
        "\n",
        "plt.show()"
      ]
    },
    {
      "cell_type": "markdown",
      "metadata": {
        "id": "5vOB_Ko0O36U"
      },
      "source": [
        "### 4. <font color=\"blue\"> Qual o item mais vendido? </font>\n",
        "Vamos seguir exatamente a mesma lógica da categoria"
      ]
    },
    {
      "cell_type": "markdown",
      "metadata": {
        "id": "b8-L0B7WO36U"
      },
      "source": [
        "**Podemos fazer a tabela considerando esses top itens**\n",
        "- Para pegar uma base, podemos usar o `.head()` que já conhecemos\n",
        "- Podemos também usar o `.sort_values()` para definirmos se a base será crescente ou descrescente"
      ]
    },
    {
      "cell_type": "code",
      "execution_count": null,
      "metadata": {
        "id": "STMbuNNnO36U"
      },
      "outputs": [],
      "source": [
        "# Podemos fazer um groupby do item"
      ]
    },
    {
      "cell_type": "markdown",
      "metadata": {
        "id": "ZJCd3LECO36V"
      },
      "source": [
        "**Uma forma de resolver a quantidade de ítens seria fazer apenas para os top 10 ítens**"
      ]
    },
    {
      "cell_type": "code",
      "execution_count": null,
      "metadata": {
        "id": "bm-oYUdgO36V"
      },
      "outputs": [],
      "source": [
        "# Os top 10 itens são"
      ]
    },
    {
      "cell_type": "code",
      "execution_count": null,
      "metadata": {
        "id": "4neW7NXZO36W"
      },
      "outputs": [],
      "source": [
        "# Definindo o top n itens"
      ]
    },
    {
      "cell_type": "markdown",
      "metadata": {
        "id": "TgCjFSRKO36Y"
      },
      "source": [
        "**Vamos traçar um gráfico de barras horizontais para mostrar o top 10 itens**\n",
        "- https://matplotlib.org/stable/gallery/lines_bars_and_markers/barh.html#sphx-glr-gallery-lines-bars-and-markers-barh-py\n",
        "- Podemos usar o `ax.invert_yaxis()` para inverter o eixo y"
      ]
    },
    {
      "cell_type": "markdown",
      "metadata": {
        "id": "lh5jQImXO36Z"
      },
      "source": [
        "**Agora agrupando por ítem e ano**"
      ]
    },
    {
      "cell_type": "code",
      "execution_count": null,
      "metadata": {
        "id": "fejYOJ1JO36a"
      },
      "outputs": [],
      "source": [
        "# Podemos fazer um groupby de item e ano"
      ]
    },
    {
      "cell_type": "code",
      "execution_count": null,
      "metadata": {
        "id": "aT6I7ZNTO36a"
      },
      "outputs": [],
      "source": [
        "# Para visualizar algum item dos top itens\n",
        "itens_ano[itens_ano[\"Product Name\"] == top_itens[0]]"
      ]
    },
    {
      "cell_type": "markdown",
      "metadata": {
        "id": "wlpEDKz0O36b"
      },
      "source": [
        "**Como vamos criar esse gráfico? Como saber quais itens não aparecem em todos os anos?**"
      ]
    },
    {
      "cell_type": "markdown",
      "metadata": {
        "id": "pJsOr3bhO36b"
      },
      "source": [
        "### Juntando bases no pandas"
      ]
    },
    {
      "cell_type": "markdown",
      "metadata": {
        "id": "0wUwT9k2O36b"
      },
      "source": [
        "**O <font color='blue'>.merge()</font> irá juntar duas bases**\n",
        "- Para isso, devemos passar:\n",
        "    - base 1\n",
        "    - base 2\n",
        "    - how: forma que iremos fazer essa junção das bases\n",
        "        - inner: o que tiver em comum entre as 2 bases (base 1 E base 2)\n",
        "        - outer: tudo o que tiver nas 2 bases (base 1 OU base 2)\n",
        "        - left: tudo o que tem na PRIMEIRA base, juntando com o que tiver na segunda\n",
        "        - right: tudo o que tem na SEGUNDA base, juntando com o que tiver na primeira\n",
        "    - on: colunar que vamos usar para fazer a junção da base"
      ]
    },
    {
      "cell_type": "code",
      "execution_count": null,
      "metadata": {
        "id": "3n1hiPXKO36c"
      },
      "outputs": [],
      "source": [
        "# Criando 2 dataframes\n",
        "dic1 = {\n",
        "    \"nomes\": ['Nome1','Nome2','Nome3'],\n",
        "    \"valores\": [1,2,3]\n",
        "}\n",
        "\n",
        "base_dic1 = pd.DataFrame(dic1)\n",
        "\n",
        "dic2 = {\n",
        "    \"nomes\": ['Nome1','Nome2','Nome4'],\n",
        "    \"valores\": [9,8,7]\n",
        "}\n",
        "\n",
        "base_dic2 = pd.DataFrame(dic2)"
      ]
    },
    {
      "cell_type": "code",
      "execution_count": null,
      "metadata": {
        "id": "Ki9dC--mO36c"
      },
      "outputs": [],
      "source": [
        "base_merge = pd.merge(\n",
        "    base_dic1, # <- primeira base\n",
        "    base_dic2, # <- segunda base\n",
        "    how='outer', # <- tipo de junção que vamos fazer\n",
        "    on=\"nomes\" # <- coluna que vamos usar para fazer essa junção das bases\n",
        ") \n",
        "\n",
        "display(base_merge)"
      ]
    },
    {
      "cell_type": "code",
      "execution_count": null,
      "metadata": {
        "id": "Pafe4gmHO36e"
      },
      "outputs": [],
      "source": [
        "# Temos a nossa base de top itens\n",
        "top_n_itens"
      ]
    },
    {
      "cell_type": "markdown",
      "metadata": {
        "id": "jZeZ1haCO36f"
      },
      "source": [
        "**Como podemos cruzar a base com todos os anos de 2015 a 2018?**\n",
        "- Basta transformar as datas em um DataFrame e usar o merge para fazer essa união"
      ]
    },
    {
      "cell_type": "code",
      "execution_count": null,
      "metadata": {
        "id": "AOlVH_TMO36g"
      },
      "outputs": [],
      "source": [
        "df_datas = pd.DataFrame([2018,2017,2016,2015])\n",
        "df_datas.columns = ['Ano']\n",
        "df_datas"
      ]
    },
    {
      "cell_type": "markdown",
      "metadata": {
        "id": "3zTbw2EfO36i"
      },
      "source": [
        "**Só que pra conseguir unir as bases, precisamos ter uma coluna em comum entre elas**\n",
        "- Então podemos, nas duas bases, criar uma coluna chamada `uniao` (ou qualquer outro nome) com o mesmo valor"
      ]
    },
    {
      "cell_type": "code",
      "execution_count": null,
      "metadata": {
        "id": "WoB0rxhxO36j"
      },
      "outputs": [],
      "source": [
        "top_n_itens['uniao'] = 'unir'\n",
        "df_datas['uniao'] = 'unir'"
      ]
    },
    {
      "cell_type": "markdown",
      "metadata": {
        "id": "jLu1aAxxO36k"
      },
      "source": [
        "**Agora que temos uma coluna que conseguimos relacionar, podemos fazer o merge das bases**"
      ]
    },
    {
      "cell_type": "code",
      "execution_count": null,
      "metadata": {
        "id": "sq4gkP79O36k"
      },
      "outputs": [],
      "source": [
        "produto_ano = pd.merge(\n",
        "    top_n_itens, # <- primeira base\n",
        "    df_datas, # <- segunda base\n",
        "    how='outer', # <- tipo de junção que vamos fazer\n",
        "    on=\"uniao\" # <- coluna que vamos usar para fazer essa junção das bases\n",
        ") \n",
        "\n",
        "produto_ano.head()"
      ]
    },
    {
      "cell_type": "markdown",
      "metadata": {
        "id": "jVF2ZxTVO36l"
      },
      "source": [
        "#### Agora podemos voltar para a base itens_ano e fazer a junção com essa base acima"
      ]
    },
    {
      "cell_type": "code",
      "execution_count": null,
      "metadata": {
        "id": "WcFjfwF7O36m"
      },
      "outputs": [],
      "source": [
        "display(itens_ano)"
      ]
    },
    {
      "cell_type": "code",
      "execution_count": null,
      "metadata": {
        "id": "_OwGNngaO36m"
      },
      "outputs": [],
      "source": [
        "itens_ano_grafico = pd.merge(\n",
        "    produto_ano,\n",
        "    itens_ano,\n",
        "    how='left',\n",
        "    on=['Product Name','Ano']\n",
        ")\n",
        "        \n",
        "itens_ano_grafico.head()"
      ]
    },
    {
      "cell_type": "markdown",
      "metadata": {
        "id": "oEAs_TDaO36m"
      },
      "source": [
        "**Agora podemos usar esses dados para traçar o gráfico**"
      ]
    },
    {
      "cell_type": "code",
      "execution_count": null,
      "metadata": {
        "id": "G8W8SFpEO36n"
      },
      "outputs": [],
      "source": [
        "# Vamos criar o gráfico baseado nesse DataFrame que acabamos de criar"
      ]
    },
    {
      "cell_type": "markdown",
      "metadata": {
        "id": "qOwYj-UHO36q"
      },
      "source": [
        "**Como resultado final, teremos o gráfico abaixo**"
      ]
    },
    {
      "cell_type": "code",
      "execution_count": null,
      "metadata": {
        "id": "g0Jl0mUCO36q"
      },
      "outputs": [],
      "source": [
        "# Vamos criar o gráfico baseado nesse DataFrame que acabamos de criar\n",
        "fig,ax = plt.subplots(\n",
        "            figsize = (16,12)\n",
        "        )\n",
        "\n",
        "hgt = 0.2\n",
        "\n",
        "qtd_itens = len(top_n_itens)\n",
        "\n",
        "ax.barh(np.arange(0,qtd_itens)-hgt-hgt/2, #Valores de y\n",
        "        itens_ano_grafico[itens_ano_grafico.Ano == 2018].Sales_y.values, # Valores de x \n",
        "        align='center',\n",
        "        height=hgt, # Comprimento do gráfico\n",
        "        label=2018,\n",
        "        color=\"#0069c0\"\n",
        "       )\n",
        "ax.barh(np.arange(0,qtd_itens)-hgt/2, #Valores de y\n",
        "        itens_ano_grafico[itens_ano_grafico.Ano == 2017].Sales_y.values, # Valores de x \n",
        "        align='center',height=hgt,label=2017,color=\"#008ac5\")\n",
        "ax.barh(np.arange(0,qtd_itens)+hgt/2, #Valores de y\n",
        "        itens_ano_grafico[itens_ano_grafico.Ano == 2016].Sales_y.values, # Valores de x \n",
        "        align='center',height=hgt,label=2016,color=\"#00a9b5\")\n",
        "ax.barh(np.arange(0,qtd_itens)+hgt+hgt/2, #Valores de y\n",
        "        itens_ano_grafico[itens_ano_grafico.Ano == 2015].Sales_y.values, # Valores de x \n",
        "        align='center',height=hgt,label=2015,color=\"#00c698\")\n",
        "\n",
        "ax.invert_yaxis() # Inverter o eixo y (deixando o gráfico do maior para o menor)\n",
        "ax.legend()\n",
        "\n",
        "for i in np.arange(0,qtd_itens):\n",
        "    ax.annotate('{:,.1f}k'.format(itens_ano_grafico[itens_ano_grafico.Ano == 2018].Sales_y.values[i]/1000), \n",
        "                (itens_ano_grafico[itens_ano_grafico.Ano == 2018].Sales_y.values[i],i-hgt-hgt/2), \n",
        "                ha=\"center\", va=\"top\", xytext=(20,6), textcoords=\"offset points\", \n",
        "                fontsize=12, fontweight='bold', color=\"#0069c0\")\n",
        "    \n",
        "ax.yaxis.set_ticks(np.arange(0,qtd_itens)) # Ajustando os valores de x\n",
        "ax.set_yticklabels(top_n_itens[\"Product Name\"]) # Colocando rótulo no meu eixo\n",
        "ax.tick_params(axis='y',labelsize=10) # Melhorando o visual do eixo x\n",
        "\n",
        "ax.xaxis.set_visible(False) \n",
        "\n",
        "ax.spines['top'].set_visible(False) \n",
        "ax.spines['right'].set_visible(False)\n",
        "ax.spines['bottom'].set_visible(False)\n",
        "\n",
        "plt.show()"
      ]
    },
    {
      "cell_type": "markdown",
      "metadata": {
        "id": "mSdiv-R0O36r"
      },
      "source": [
        "# Resumindo as perguntas"
      ]
    },
    {
      "cell_type": "code",
      "execution_count": null,
      "metadata": {
        "id": "IySvapWfO36r"
      },
      "outputs": [],
      "source": [
        "ax.set_title(\"VENDAS POR ANO\", # Título do gráfico\n",
        "             fontsize=20, # Tamanho da fonte\n",
        "             fontweight='bold', # Espessura da fonte\n",
        "             color='#00b247' # Cor da fonte\n",
        "            )"
      ]
    },
    {
      "cell_type": "code",
      "execution_count": null,
      "metadata": {
        "id": "t8QXW_ZTO36r"
      },
      "outputs": [],
      "source": [
        "ax.set_title(\"VENDAS POR MÊS\", # Título do gráfico\n",
        "             fontsize=20, # Tamanho da fonte\n",
        "             fontweight='bold', # Espessura da fonte\n",
        "             color='#00b247' # Cor da fonte\n",
        "            )"
      ]
    },
    {
      "cell_type": "code",
      "execution_count": null,
      "metadata": {
        "id": "9fnfaT1aO36r"
      },
      "outputs": [],
      "source": [
        "ax.set_title(\"VENDAS POR CATEGORIA\", # Título do gráfico\n",
        "             fontsize=20, # Tamanho da fonte\n",
        "             fontweight='bold', # Espessura da fonte\n",
        "             color='#00b247' # Cor da fonte\n",
        "            )"
      ]
    },
    {
      "cell_type": "code",
      "execution_count": null,
      "metadata": {
        "id": "O332oJz4O36s"
      },
      "outputs": [],
      "source": [
        "ax.set_title(\"TOP ITENS\", # Título do gráfico\n",
        "             fontsize=20, # Tamanho da fonte\n",
        "             fontweight='bold', # Espessura da fonte\n",
        "             color='#00b247' # Cor da fonte\n",
        "            )"
      ]
    },
    {
      "cell_type": "code",
      "execution_count": null,
      "metadata": {
        "id": "9yw2NFZaO36s"
      },
      "outputs": [],
      "source": [
        "ax.set_title(\"ITENS X ANOS\", # Título do gráfico\n",
        "             fontsize=20, # Tamanho da fonte\n",
        "             fontweight='bold', # Espessura da fonte\n",
        "             color='#00b247' # Cor da fonte\n",
        "            )"
      ]
    }
  ],
  "metadata": {
    "kernelspec": {
      "display_name": "Python 3",
      "language": "python",
      "name": "python3"
    },
    "language_info": {
      "codemirror_mode": {
        "name": "ipython",
        "version": 3
      },
      "file_extension": ".py",
      "mimetype": "text/x-python",
      "name": "python",
      "nbconvert_exporter": "python",
      "pygments_lexer": "ipython3",
      "version": "3.8.8"
    },
    "colab": {
      "provenance": [],
      "collapsed_sections": [
        "gOIvERDgO36A",
        "zX_oIXKVO36B",
        "1_t5YtlWO36I",
        "zJAWxzhLO36S",
        "5vOB_Ko0O36U",
        "pJsOr3bhO36b",
        "jVF2ZxTVO36l"
      ],
      "include_colab_link": true
    }
  },
  "nbformat": 4,
  "nbformat_minor": 0
}